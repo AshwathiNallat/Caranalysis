{
 "cells": [
  {
   "cell_type": "code",
   "execution_count": 98,
   "id": "bdd0cd82-8cc9-4346-b974-01f3b0be2041",
   "metadata": {},
   "outputs": [],
   "source": [
    "import sqlite3"
   ]
  },
  {
   "cell_type": "code",
   "execution_count": 99,
   "id": "0e9dd07a-acb1-4e11-a098-b85be1de7cd6",
   "metadata": {},
   "outputs": [
    {
     "name": "stdout",
     "output_type": "stream",
     "text": [
      "first connection\n"
     ]
    }
   ],
   "source": [
    "an_connection= sqlite3.connect('aswati.db')\n",
    "print(\"first connection\") "
   ]
  },
  {
   "cell_type": "code",
   "execution_count": 100,
   "id": "a50910f5-f06c-4416-9d51-58316855325a",
   "metadata": {},
   "outputs": [
    {
     "name": "stdout",
     "output_type": "stream",
     "text": [
      "first connection\n",
      "!!!!!!...........Table created..............!!!!!!!\n"
     ]
    }
   ],
   "source": [
    "an_connection= sqlite3.connect('aswati.db')\n",
    "print(\"first connection\") \n",
    "an_connection.execute('''CREATE TABLE AN_COMPANY\n",
    "         (ID INT PRIMARY KEY     NOT NULL,\n",
    "         NAME           TEXT    NOT NULL,\n",
    "         AGE            INT     NOT NULL,\n",
    "         ADDRESS        CHAR(50),\n",
    "         SALARY         FLOAT);''')\n",
    "\n",
    "print (\"!!!!!!...........Table created..............!!!!!!!\")\n",
    "\n",
    "an_connection.close()\n"
   ]
  },
  {
   "cell_type": "code",
   "execution_count": 101,
   "id": "046a08b7-096e-4819-bf0c-19631bb7adde",
   "metadata": {},
   "outputs": [
    {
     "name": "stdout",
     "output_type": "stream",
     "text": [
      "Opened database successfully\n",
      "Records updated successfully\n"
     ]
    }
   ],
   "source": [
    "an_connection= sqlite3.connect('aswati.db')\n",
    "print (\"Opened database successfully\")\n",
    "\n",
    "## \\  IS A ESCAPE SEQUENCE TO BREAK THE LINE SO THAT EVERY SUBSEQUENT RECORDS GOES TO THE NEXT LINE\n",
    "\n",
    "an_connection.execute(\"INSERT INTO AN_COMPANY (ID,NAME,AGE,ADDRESS,SALARY) \\\n",
    "      VALUES (1, 'ANAND JHA', 31, 'BENGALURU', 50000.00 )\")\n",
    "\n",
    "an_connection.execute(\"INSERT INTO AN_COMPANY (ID,NAME,AGE,ADDRESS,SALARY) \\\n",
    "      VALUES (2, 'ROY', 26, 'GURGOAN', 18000.00 )\")\n",
    "\n",
    "an_connection.execute(\"INSERT INTO AN_COMPANY (ID,NAME,AGE,ADDRESS,SALARY) \\\n",
    "      VALUES (3, 'Ted', 22, 'NOIDA', 22000.00 )\")\n",
    "\n",
    "\n",
    "an_connection.commit()\n",
    "print (\"Records updated successfully\");\n",
    "an_connection.close()"
   ]
  },
  {
   "cell_type": "code",
   "execution_count": 103,
   "id": "d58a4790-a08f-48a6-b933-828841c7f2d5",
   "metadata": {},
   "outputs": [
    {
     "name": "stdout",
     "output_type": "stream",
     "text": [
      "[(1, 'ANAND JHA', 31, 'BENGALURU', 50000.0), (2, 'ROY', 26, 'GURGOAN', 18000.0), (3, 'Ted', 22, 'NOIDA', 22000.0)]\n"
     ]
    }
   ],
   "source": [
    "an_connection= sqlite3.connect('aswati.db')\n",
    "\n",
    "cur= an_connection.cursor()\n",
    "cur.execute('''select * from AN_COMPANY''')\n",
    "print(cur.fetchall())\n",
    "an_connection.close()"
   ]
  },
  {
   "cell_type": "code",
   "execution_count": 104,
   "id": "4bca7574-f4a7-4d34-8b2e-f13c46175ba6",
   "metadata": {},
   "outputs": [
    {
     "name": "stdout",
     "output_type": "stream",
     "text": [
      "ID=  1\n",
      "name= ANAND JHA\n",
      "ADDRESS =  BENGALURU\n",
      "SALARY =  50000.0 \n",
      "\n",
      "ID=  2\n",
      "name= ROY\n",
      "ADDRESS =  GURGOAN\n",
      "SALARY =  18000.0 \n",
      "\n",
      "ID=  3\n",
      "name= Ted\n",
      "ADDRESS =  NOIDA\n",
      "SALARY =  22000.0 \n",
      "\n"
     ]
    }
   ],
   "source": [
    "an_connection= sqlite3.connect('aswati.db')\n",
    "cur= an_connection.cursor()\n",
    "cur.execute('''select ID, NAME,  address, salary from AN_COMPANY''')\n",
    "for ROW in  cur:\n",
    "    print(\"ID= \", ROW[0])\n",
    "    print(\"name=\", ROW[1],)\n",
    "    print (\"ADDRESS = \", ROW[2])\n",
    "    print (\"SALARY = \", ROW[3], \"\\n\")\n",
    "\n",
    "\n",
    "an_connection.close()"
   ]
  },
  {
   "cell_type": "code",
   "execution_count": 105,
   "id": "d255bfc2-2fa1-4a99-ad26-e0ca623c470a",
   "metadata": {},
   "outputs": [
    {
     "name": "stdout",
     "output_type": "stream",
     "text": [
      "Opened database successfully\n"
     ]
    },
    {
     "data": {
      "text/plain": [
       "<function Connection.commit()>"
      ]
     },
     "execution_count": 105,
     "metadata": {},
     "output_type": "execute_result"
    }
   ],
   "source": [
    "an_connection = sqlite3.connect('aswati.db')\n",
    "print (\"Opened database successfully\");\n",
    "\n",
    "an_connection.execute(\"UPDATE AN_COMPANY set SALARY = 25000.00 where ID = 1\")## Updation\n",
    "an_connection.execute(\"DELETE from AN_COMPANY where ID = 2;\")# Delete\n",
    "an_connection.commit"
   ]
  },
  {
   "cell_type": "code",
   "execution_count": 106,
   "id": "312ea0d7-c574-4b31-b0ac-9b8dfb3e8693",
   "metadata": {},
   "outputs": [
    {
     "name": "stdout",
     "output_type": "stream",
     "text": [
      "ID=  1\n",
      "name= ANAND JHA\n",
      "ADDRESS =  BENGALURU\n",
      "SALARY =  50000.0 \n",
      "\n",
      "ID=  2\n",
      "name= ROY\n",
      "ADDRESS =  GURGOAN\n",
      "SALARY =  18000.0 \n",
      "\n",
      "ID=  3\n",
      "name= Ted\n",
      "ADDRESS =  NOIDA\n",
      "SALARY =  22000.0 \n",
      "\n"
     ]
    }
   ],
   "source": [
    "an_connection= sqlite3.connect('aswati.db')\n",
    "cur= an_connection.cursor()\n",
    "cur.execute('''select ID, NAME,  address, salary from AN_COMPANY''')\n",
    "for ROW in  cur:\n",
    "    print(\"ID= \", ROW[0])\n",
    "    print(\"name=\", ROW[1])\n",
    "    print(\"ADDRESS = \", ROW[2])\n",
    "    print(\"SALARY = \", ROW[3], \"\\n\")\n",
    "\n",
    "\n",
    "an_connection.close()"
   ]
  },
  {
   "cell_type": "code",
   "execution_count": 107,
   "id": "3d9bca63-445e-43e8-999d-d190fc02bc65",
   "metadata": {},
   "outputs": [
    {
     "ename": "ModuleNotFoundError",
     "evalue": "No module named 'pymongo'",
     "output_type": "error",
     "traceback": [
      "\u001b[0;31m---------------------------------------------------------------------------\u001b[0m",
      "\u001b[0;31mModuleNotFoundError\u001b[0m                       Traceback (most recent call last)",
      "Cell \u001b[0;32mIn [107], line 1\u001b[0m\n\u001b[0;32m----> 1\u001b[0m \u001b[38;5;28;01mimport\u001b[39;00m \u001b[38;5;21;01mpymongo\u001b[39;00m\n\u001b[1;32m      2\u001b[0m \u001b[38;5;28;01mfrom\u001b[39;00m \u001b[38;5;21;01mpymongo\u001b[39;00m \u001b[38;5;28;01mimport\u001b[39;00m mongoclient\n",
      "\u001b[0;31mModuleNotFoundError\u001b[0m: No module named 'pymongo'"
     ]
    }
   ],
   "source": [
    "import pymongo\n",
    "from pymongo import mongoclient"
   ]
  },
  {
   "cell_type": "code",
   "execution_count": null,
   "id": "b5f59744-6b44-47af-a490-76b1c424671b",
   "metadata": {},
   "outputs": [],
   "source": []
  }
 ],
 "metadata": {
  "kernelspec": {
   "display_name": "Python 3 (ipykernel)",
   "language": "python",
   "name": "python3"
  },
  "language_info": {
   "codemirror_mode": {
    "name": "ipython",
    "version": 3
   },
   "file_extension": ".py",
   "mimetype": "text/x-python",
   "name": "python",
   "nbconvert_exporter": "python",
   "pygments_lexer": "ipython3",
   "version": "3.10.6"
  }
 },
 "nbformat": 4,
 "nbformat_minor": 5
}
