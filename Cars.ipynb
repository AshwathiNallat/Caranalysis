{
 "cells": [
  {
   "cell_type": "code",
   "execution_count": 3,
   "id": "b0469f9e-784c-4617-9fca-92eb8dedb971",
   "metadata": {},
   "outputs": [],
   "source": [
    "import pandas as pd\n",
    "import numpy as np\n",
    "import matplotlib.pyplot as plt\n",
    "import seaborn as sea\n",
    "%matplotlib inline\n",
    "sea.set()\n",
    "from subprocess import check_output"
   ]
  },
  {
   "cell_type": "code",
   "execution_count": 4,
   "id": "5c318b62-3669-4989-b995-e7abf542128d",
   "metadata": {},
   "outputs": [],
   "source": [
    "cardata= pd.read_excel(\"https://raw.githubusercontent.com/AshwathiNallat/Caranalysis/main/Car/Car_Sales.xlsx\")\n",
    "cardata_copy= cardata.copy()"
   ]
  },
  {
   "cell_type": "code",
   "execution_count": 24,
   "id": "c94090da-3d5c-417a-a35b-ac69638be82d",
   "metadata": {},
   "outputs": [
    {
     "data": {
      "text/html": [
       "<div>\n",
       "<style scoped>\n",
       "    .dataframe tbody tr th:only-of-type {\n",
       "        vertical-align: middle;\n",
       "    }\n",
       "\n",
       "    .dataframe tbody tr th {\n",
       "        vertical-align: top;\n",
       "    }\n",
       "\n",
       "    .dataframe thead th {\n",
       "        text-align: right;\n",
       "    }\n",
       "</style>\n",
       "<table border=\"1\" class=\"dataframe\">\n",
       "  <thead>\n",
       "    <tr style=\"text-align: right;\">\n",
       "      <th></th>\n",
       "      <th>car</th>\n",
       "      <th>price</th>\n",
       "      <th>body</th>\n",
       "      <th>mileage</th>\n",
       "      <th>engV</th>\n",
       "      <th>engType</th>\n",
       "      <th>registration</th>\n",
       "      <th>year</th>\n",
       "      <th>model</th>\n",
       "      <th>drive</th>\n",
       "    </tr>\n",
       "  </thead>\n",
       "  <tbody>\n",
       "    <tr>\n",
       "      <th>0</th>\n",
       "      <td>Ford</td>\n",
       "      <td>15500.0</td>\n",
       "      <td>crossover</td>\n",
       "      <td>68</td>\n",
       "      <td>2.5</td>\n",
       "      <td>Gas</td>\n",
       "      <td>yes</td>\n",
       "      <td>2010</td>\n",
       "      <td>Kuga</td>\n",
       "      <td>full</td>\n",
       "    </tr>\n",
       "    <tr>\n",
       "      <th>1</th>\n",
       "      <td>Mercedes-Benz</td>\n",
       "      <td>20500.0</td>\n",
       "      <td>sedan</td>\n",
       "      <td>173</td>\n",
       "      <td>1.8</td>\n",
       "      <td>Gas</td>\n",
       "      <td>yes</td>\n",
       "      <td>2011</td>\n",
       "      <td>E-Class</td>\n",
       "      <td>rear</td>\n",
       "    </tr>\n",
       "    <tr>\n",
       "      <th>2</th>\n",
       "      <td>Mercedes-Benz</td>\n",
       "      <td>35000.0</td>\n",
       "      <td>other</td>\n",
       "      <td>135</td>\n",
       "      <td>5.5</td>\n",
       "      <td>Petrol</td>\n",
       "      <td>yes</td>\n",
       "      <td>2008</td>\n",
       "      <td>CL 550</td>\n",
       "      <td>rear</td>\n",
       "    </tr>\n",
       "    <tr>\n",
       "      <th>3</th>\n",
       "      <td>Mercedes-Benz</td>\n",
       "      <td>17800.0</td>\n",
       "      <td>van</td>\n",
       "      <td>162</td>\n",
       "      <td>1.8</td>\n",
       "      <td>Diesel</td>\n",
       "      <td>yes</td>\n",
       "      <td>2012</td>\n",
       "      <td>B 180</td>\n",
       "      <td>front</td>\n",
       "    </tr>\n",
       "    <tr>\n",
       "      <th>4</th>\n",
       "      <td>Mercedes-Benz</td>\n",
       "      <td>33000.0</td>\n",
       "      <td>vagon</td>\n",
       "      <td>91</td>\n",
       "      <td>NaN</td>\n",
       "      <td>Other</td>\n",
       "      <td>yes</td>\n",
       "      <td>2013</td>\n",
       "      <td>E-Class</td>\n",
       "      <td>NaN</td>\n",
       "    </tr>\n",
       "    <tr>\n",
       "      <th>...</th>\n",
       "      <td>...</td>\n",
       "      <td>...</td>\n",
       "      <td>...</td>\n",
       "      <td>...</td>\n",
       "      <td>...</td>\n",
       "      <td>...</td>\n",
       "      <td>...</td>\n",
       "      <td>...</td>\n",
       "      <td>...</td>\n",
       "      <td>...</td>\n",
       "    </tr>\n",
       "    <tr>\n",
       "      <th>9571</th>\n",
       "      <td>Hyundai</td>\n",
       "      <td>14500.0</td>\n",
       "      <td>crossover</td>\n",
       "      <td>140</td>\n",
       "      <td>2.0</td>\n",
       "      <td>Gas</td>\n",
       "      <td>yes</td>\n",
       "      <td>2011</td>\n",
       "      <td>Tucson</td>\n",
       "      <td>front</td>\n",
       "    </tr>\n",
       "    <tr>\n",
       "      <th>9572</th>\n",
       "      <td>Volkswagen</td>\n",
       "      <td>2200.0</td>\n",
       "      <td>vagon</td>\n",
       "      <td>150</td>\n",
       "      <td>1.6</td>\n",
       "      <td>Petrol</td>\n",
       "      <td>yes</td>\n",
       "      <td>1986</td>\n",
       "      <td>Passat B2</td>\n",
       "      <td>front</td>\n",
       "    </tr>\n",
       "    <tr>\n",
       "      <th>9573</th>\n",
       "      <td>Mercedes-Benz</td>\n",
       "      <td>18500.0</td>\n",
       "      <td>crossover</td>\n",
       "      <td>180</td>\n",
       "      <td>3.5</td>\n",
       "      <td>Petrol</td>\n",
       "      <td>yes</td>\n",
       "      <td>2008</td>\n",
       "      <td>ML 350</td>\n",
       "      <td>full</td>\n",
       "    </tr>\n",
       "    <tr>\n",
       "      <th>9574</th>\n",
       "      <td>Lexus</td>\n",
       "      <td>16999.0</td>\n",
       "      <td>sedan</td>\n",
       "      <td>150</td>\n",
       "      <td>3.5</td>\n",
       "      <td>Gas</td>\n",
       "      <td>yes</td>\n",
       "      <td>2008</td>\n",
       "      <td>ES 350</td>\n",
       "      <td>front</td>\n",
       "    </tr>\n",
       "    <tr>\n",
       "      <th>9575</th>\n",
       "      <td>Audi</td>\n",
       "      <td>22500.0</td>\n",
       "      <td>other</td>\n",
       "      <td>71</td>\n",
       "      <td>3.6</td>\n",
       "      <td>Petrol</td>\n",
       "      <td>yes</td>\n",
       "      <td>2007</td>\n",
       "      <td>Q7</td>\n",
       "      <td>full</td>\n",
       "    </tr>\n",
       "  </tbody>\n",
       "</table>\n",
       "<p>9576 rows × 10 columns</p>\n",
       "</div>"
      ],
      "text/plain": [
       "                car    price       body  mileage  engV engType registration  \\\n",
       "0              Ford  15500.0  crossover       68   2.5     Gas          yes   \n",
       "1     Mercedes-Benz  20500.0      sedan      173   1.8     Gas          yes   \n",
       "2     Mercedes-Benz  35000.0      other      135   5.5  Petrol          yes   \n",
       "3     Mercedes-Benz  17800.0        van      162   1.8  Diesel          yes   \n",
       "4     Mercedes-Benz  33000.0      vagon       91   NaN   Other          yes   \n",
       "...             ...      ...        ...      ...   ...     ...          ...   \n",
       "9571        Hyundai  14500.0  crossover      140   2.0     Gas          yes   \n",
       "9572     Volkswagen   2200.0      vagon      150   1.6  Petrol          yes   \n",
       "9573  Mercedes-Benz  18500.0  crossover      180   3.5  Petrol          yes   \n",
       "9574          Lexus  16999.0      sedan      150   3.5     Gas          yes   \n",
       "9575           Audi  22500.0      other       71   3.6  Petrol          yes   \n",
       "\n",
       "      year      model  drive  \n",
       "0     2010       Kuga   full  \n",
       "1     2011    E-Class   rear  \n",
       "2     2008     CL 550   rear  \n",
       "3     2012      B 180  front  \n",
       "4     2013    E-Class    NaN  \n",
       "...    ...        ...    ...  \n",
       "9571  2011     Tucson  front  \n",
       "9572  1986  Passat B2  front  \n",
       "9573  2008     ML 350   full  \n",
       "9574  2008     ES 350  front  \n",
       "9575  2007         Q7   full  \n",
       "\n",
       "[9576 rows x 10 columns]"
      ]
     },
     "execution_count": 25,
     "metadata": {},
     "output_type": "execute_result"
    }
   ],
   "source": [
    "cardata"
   ]
  },
  {
   "cell_type": "code",
   "execution_count": 9,
   "id": "c065c8fa-6f31-4113-8b8b-0e909b5f8d0a",
   "metadata": {},
   "outputs": [
    {
     "data": {
      "text/plain": [
       "(9576, 10)"
      ]
     },
     "execution_count": 9,
     "metadata": {},
     "output_type": "execute_result"
    }
   ],
   "source": [
    "cardata.shape"
   ]
  },
  {
   "cell_type": "code",
   "execution_count": 10,
   "id": "92985bcc-1067-4d33-8dfc-fe304ce38ddb",
   "metadata": {},
   "outputs": [
    {
     "data": {
      "text/html": [
       "<div>\n",
       "<style scoped>\n",
       "    .dataframe tbody tr th:only-of-type {\n",
       "        vertical-align: middle;\n",
       "    }\n",
       "\n",
       "    .dataframe tbody tr th {\n",
       "        vertical-align: top;\n",
       "    }\n",
       "\n",
       "    .dataframe thead th {\n",
       "        text-align: right;\n",
       "    }\n",
       "</style>\n",
       "<table border=\"1\" class=\"dataframe\">\n",
       "  <thead>\n",
       "    <tr style=\"text-align: right;\">\n",
       "      <th></th>\n",
       "      <th>car</th>\n",
       "      <th>price</th>\n",
       "      <th>body</th>\n",
       "      <th>mileage</th>\n",
       "      <th>engV</th>\n",
       "      <th>engType</th>\n",
       "      <th>registration</th>\n",
       "      <th>year</th>\n",
       "      <th>model</th>\n",
       "      <th>drive</th>\n",
       "    </tr>\n",
       "  </thead>\n",
       "  <tbody>\n",
       "    <tr>\n",
       "      <th>0</th>\n",
       "      <td>Ford</td>\n",
       "      <td>15500.0</td>\n",
       "      <td>crossover</td>\n",
       "      <td>68</td>\n",
       "      <td>2.5</td>\n",
       "      <td>Gas</td>\n",
       "      <td>yes</td>\n",
       "      <td>2010</td>\n",
       "      <td>Kuga</td>\n",
       "      <td>full</td>\n",
       "    </tr>\n",
       "    <tr>\n",
       "      <th>1</th>\n",
       "      <td>Mercedes-Benz</td>\n",
       "      <td>20500.0</td>\n",
       "      <td>sedan</td>\n",
       "      <td>173</td>\n",
       "      <td>1.8</td>\n",
       "      <td>Gas</td>\n",
       "      <td>yes</td>\n",
       "      <td>2011</td>\n",
       "      <td>E-Class</td>\n",
       "      <td>rear</td>\n",
       "    </tr>\n",
       "    <tr>\n",
       "      <th>2</th>\n",
       "      <td>Mercedes-Benz</td>\n",
       "      <td>35000.0</td>\n",
       "      <td>other</td>\n",
       "      <td>135</td>\n",
       "      <td>5.5</td>\n",
       "      <td>Petrol</td>\n",
       "      <td>yes</td>\n",
       "      <td>2008</td>\n",
       "      <td>CL 550</td>\n",
       "      <td>rear</td>\n",
       "    </tr>\n",
       "    <tr>\n",
       "      <th>3</th>\n",
       "      <td>Mercedes-Benz</td>\n",
       "      <td>17800.0</td>\n",
       "      <td>van</td>\n",
       "      <td>162</td>\n",
       "      <td>1.8</td>\n",
       "      <td>Diesel</td>\n",
       "      <td>yes</td>\n",
       "      <td>2012</td>\n",
       "      <td>B 180</td>\n",
       "      <td>front</td>\n",
       "    </tr>\n",
       "    <tr>\n",
       "      <th>4</th>\n",
       "      <td>Mercedes-Benz</td>\n",
       "      <td>33000.0</td>\n",
       "      <td>vagon</td>\n",
       "      <td>91</td>\n",
       "      <td>NaN</td>\n",
       "      <td>Other</td>\n",
       "      <td>yes</td>\n",
       "      <td>2013</td>\n",
       "      <td>E-Class</td>\n",
       "      <td>NaN</td>\n",
       "    </tr>\n",
       "  </tbody>\n",
       "</table>\n",
       "</div>"
      ],
      "text/plain": [
       "             car    price       body  mileage  engV engType registration  \\\n",
       "0           Ford  15500.0  crossover       68   2.5     Gas          yes   \n",
       "1  Mercedes-Benz  20500.0      sedan      173   1.8     Gas          yes   \n",
       "2  Mercedes-Benz  35000.0      other      135   5.5  Petrol          yes   \n",
       "3  Mercedes-Benz  17800.0        van      162   1.8  Diesel          yes   \n",
       "4  Mercedes-Benz  33000.0      vagon       91   NaN   Other          yes   \n",
       "\n",
       "   year    model  drive  \n",
       "0  2010     Kuga   full  \n",
       "1  2011  E-Class   rear  \n",
       "2  2008   CL 550   rear  \n",
       "3  2012    B 180  front  \n",
       "4  2013  E-Class    NaN  "
      ]
     },
     "execution_count": 10,
     "metadata": {},
     "output_type": "execute_result"
    }
   ],
   "source": [
    "cardata.head()"
   ]
  },
  {
   "cell_type": "code",
   "execution_count": 15,
   "id": "68487b13-42a7-4a2f-996e-574a551d8cce",
   "metadata": {},
   "outputs": [
    {
     "name": "stdout",
     "output_type": "stream",
     "text": [
      "<class 'pandas.core.frame.DataFrame'>\n",
      "RangeIndex: 9576 entries, 0 to 9575\n",
      "Data columns (total 10 columns):\n",
      " #   Column        Non-Null Count  Dtype  \n",
      "---  ------        --------------  -----  \n",
      " 0   car           9576 non-null   object \n",
      " 1   price         9576 non-null   float64\n",
      " 2   body          9576 non-null   object \n",
      " 3   mileage       9576 non-null   int64  \n",
      " 4   engV          9142 non-null   float64\n",
      " 5   engType       9576 non-null   object \n",
      " 6   registration  9576 non-null   object \n",
      " 7   year          9576 non-null   int64  \n",
      " 8   model         9576 non-null   object \n",
      " 9   drive         9065 non-null   object \n",
      "dtypes: float64(2), int64(2), object(6)\n",
      "memory usage: 748.2+ KB\n"
     ]
    }
   ],
   "source": [
    "cardata.info()"
   ]
  },
  {
   "cell_type": "code",
   "execution_count": 16,
   "id": "7dc26276-36c7-48a0-a15c-9873d17b6c30",
   "metadata": {},
   "outputs": [
    {
     "data": {
      "text/plain": [
       "RangeIndex(start=0, stop=9576, step=1)"
      ]
     },
     "execution_count": 16,
     "metadata": {},
     "output_type": "execute_result"
    }
   ],
   "source": [
    "cardata.index"
   ]
  },
  {
   "cell_type": "code",
   "execution_count": 17,
   "id": "0b140874-5a0f-4007-8a8b-d2f467d014d8",
   "metadata": {},
   "outputs": [
    {
     "data": {
      "text/plain": [
       "Index(['car', 'price', 'body', 'mileage', 'engV', 'engType', 'registration',\n",
       "       'year', 'model', 'drive'],\n",
       "      dtype='object')"
      ]
     },
     "execution_count": 17,
     "metadata": {},
     "output_type": "execute_result"
    }
   ],
   "source": [
    "cardata.columns"
   ]
  },
  {
   "cell_type": "code",
   "execution_count": 18,
   "id": "557c6d9d-ba08-44df-a4bb-effd1716ff21",
   "metadata": {},
   "outputs": [
    {
     "data": {
      "text/html": [
       "<div>\n",
       "<style scoped>\n",
       "    .dataframe tbody tr th:only-of-type {\n",
       "        vertical-align: middle;\n",
       "    }\n",
       "\n",
       "    .dataframe tbody tr th {\n",
       "        vertical-align: top;\n",
       "    }\n",
       "\n",
       "    .dataframe thead th {\n",
       "        text-align: right;\n",
       "    }\n",
       "</style>\n",
       "<table border=\"1\" class=\"dataframe\">\n",
       "  <thead>\n",
       "    <tr style=\"text-align: right;\">\n",
       "      <th></th>\n",
       "      <th>price</th>\n",
       "      <th>mileage</th>\n",
       "      <th>engV</th>\n",
       "      <th>year</th>\n",
       "    </tr>\n",
       "  </thead>\n",
       "  <tbody>\n",
       "    <tr>\n",
       "      <th>count</th>\n",
       "      <td>9576.000000</td>\n",
       "      <td>9576.000000</td>\n",
       "      <td>9142.000000</td>\n",
       "      <td>9576.000000</td>\n",
       "    </tr>\n",
       "    <tr>\n",
       "      <th>mean</th>\n",
       "      <td>15633.317316</td>\n",
       "      <td>138.862364</td>\n",
       "      <td>2.646344</td>\n",
       "      <td>2006.605994</td>\n",
       "    </tr>\n",
       "    <tr>\n",
       "      <th>std</th>\n",
       "      <td>24106.523436</td>\n",
       "      <td>98.629754</td>\n",
       "      <td>5.927699</td>\n",
       "      <td>7.067924</td>\n",
       "    </tr>\n",
       "    <tr>\n",
       "      <th>min</th>\n",
       "      <td>0.000000</td>\n",
       "      <td>0.000000</td>\n",
       "      <td>0.100000</td>\n",
       "      <td>1953.000000</td>\n",
       "    </tr>\n",
       "    <tr>\n",
       "      <th>25%</th>\n",
       "      <td>4999.000000</td>\n",
       "      <td>70.000000</td>\n",
       "      <td>1.600000</td>\n",
       "      <td>2004.000000</td>\n",
       "    </tr>\n",
       "    <tr>\n",
       "      <th>50%</th>\n",
       "      <td>9200.000000</td>\n",
       "      <td>128.000000</td>\n",
       "      <td>2.000000</td>\n",
       "      <td>2008.000000</td>\n",
       "    </tr>\n",
       "    <tr>\n",
       "      <th>75%</th>\n",
       "      <td>16700.000000</td>\n",
       "      <td>194.000000</td>\n",
       "      <td>2.500000</td>\n",
       "      <td>2012.000000</td>\n",
       "    </tr>\n",
       "    <tr>\n",
       "      <th>max</th>\n",
       "      <td>547800.000000</td>\n",
       "      <td>999.000000</td>\n",
       "      <td>99.990000</td>\n",
       "      <td>2016.000000</td>\n",
       "    </tr>\n",
       "  </tbody>\n",
       "</table>\n",
       "</div>"
      ],
      "text/plain": [
       "               price      mileage         engV         year\n",
       "count    9576.000000  9576.000000  9142.000000  9576.000000\n",
       "mean    15633.317316   138.862364     2.646344  2006.605994\n",
       "std     24106.523436    98.629754     5.927699     7.067924\n",
       "min         0.000000     0.000000     0.100000  1953.000000\n",
       "25%      4999.000000    70.000000     1.600000  2004.000000\n",
       "50%      9200.000000   128.000000     2.000000  2008.000000\n",
       "75%     16700.000000   194.000000     2.500000  2012.000000\n",
       "max    547800.000000   999.000000    99.990000  2016.000000"
      ]
     },
     "execution_count": 18,
     "metadata": {},
     "output_type": "execute_result"
    }
   ],
   "source": [
    "cardata.describe()"
   ]
  },
  {
   "cell_type": "code",
   "execution_count": 24,
   "id": "e276c82f-81a1-4714-863a-75c7d1070b80",
   "metadata": {},
   "outputs": [
    {
     "data": {
      "text/html": [
       "<div>\n",
       "<style scoped>\n",
       "    .dataframe tbody tr th:only-of-type {\n",
       "        vertical-align: middle;\n",
       "    }\n",
       "\n",
       "    .dataframe tbody tr th {\n",
       "        vertical-align: top;\n",
       "    }\n",
       "\n",
       "    .dataframe thead th {\n",
       "        text-align: right;\n",
       "    }\n",
       "</style>\n",
       "<table border=\"1\" class=\"dataframe\">\n",
       "  <thead>\n",
       "    <tr style=\"text-align: right;\">\n",
       "      <th></th>\n",
       "      <th>car</th>\n",
       "      <th>price</th>\n",
       "      <th>body</th>\n",
       "      <th>mileage</th>\n",
       "      <th>engV</th>\n",
       "      <th>engType</th>\n",
       "      <th>registration</th>\n",
       "      <th>year</th>\n",
       "      <th>model</th>\n",
       "      <th>drive</th>\n",
       "    </tr>\n",
       "  </thead>\n",
       "  <tbody>\n",
       "    <tr>\n",
       "      <th>count</th>\n",
       "      <td>9576</td>\n",
       "      <td>9576.000000</td>\n",
       "      <td>9576</td>\n",
       "      <td>9576.000000</td>\n",
       "      <td>9142.000000</td>\n",
       "      <td>9576</td>\n",
       "      <td>9576</td>\n",
       "      <td>9576.000000</td>\n",
       "      <td>9576</td>\n",
       "      <td>9065</td>\n",
       "    </tr>\n",
       "    <tr>\n",
       "      <th>unique</th>\n",
       "      <td>87</td>\n",
       "      <td>NaN</td>\n",
       "      <td>6</td>\n",
       "      <td>NaN</td>\n",
       "      <td>NaN</td>\n",
       "      <td>4</td>\n",
       "      <td>2</td>\n",
       "      <td>NaN</td>\n",
       "      <td>863</td>\n",
       "      <td>3</td>\n",
       "    </tr>\n",
       "    <tr>\n",
       "      <th>top</th>\n",
       "      <td>Volkswagen</td>\n",
       "      <td>NaN</td>\n",
       "      <td>sedan</td>\n",
       "      <td>NaN</td>\n",
       "      <td>NaN</td>\n",
       "      <td>Petrol</td>\n",
       "      <td>yes</td>\n",
       "      <td>NaN</td>\n",
       "      <td>E-Class</td>\n",
       "      <td>front</td>\n",
       "    </tr>\n",
       "    <tr>\n",
       "      <th>freq</th>\n",
       "      <td>936</td>\n",
       "      <td>NaN</td>\n",
       "      <td>3646</td>\n",
       "      <td>NaN</td>\n",
       "      <td>NaN</td>\n",
       "      <td>4379</td>\n",
       "      <td>9015</td>\n",
       "      <td>NaN</td>\n",
       "      <td>199</td>\n",
       "      <td>5188</td>\n",
       "    </tr>\n",
       "    <tr>\n",
       "      <th>mean</th>\n",
       "      <td>NaN</td>\n",
       "      <td>15633.317316</td>\n",
       "      <td>NaN</td>\n",
       "      <td>138.862364</td>\n",
       "      <td>2.646344</td>\n",
       "      <td>NaN</td>\n",
       "      <td>NaN</td>\n",
       "      <td>2006.605994</td>\n",
       "      <td>NaN</td>\n",
       "      <td>NaN</td>\n",
       "    </tr>\n",
       "    <tr>\n",
       "      <th>std</th>\n",
       "      <td>NaN</td>\n",
       "      <td>24106.523436</td>\n",
       "      <td>NaN</td>\n",
       "      <td>98.629754</td>\n",
       "      <td>5.927699</td>\n",
       "      <td>NaN</td>\n",
       "      <td>NaN</td>\n",
       "      <td>7.067924</td>\n",
       "      <td>NaN</td>\n",
       "      <td>NaN</td>\n",
       "    </tr>\n",
       "    <tr>\n",
       "      <th>min</th>\n",
       "      <td>NaN</td>\n",
       "      <td>0.000000</td>\n",
       "      <td>NaN</td>\n",
       "      <td>0.000000</td>\n",
       "      <td>0.100000</td>\n",
       "      <td>NaN</td>\n",
       "      <td>NaN</td>\n",
       "      <td>1953.000000</td>\n",
       "      <td>NaN</td>\n",
       "      <td>NaN</td>\n",
       "    </tr>\n",
       "    <tr>\n",
       "      <th>25%</th>\n",
       "      <td>NaN</td>\n",
       "      <td>4999.000000</td>\n",
       "      <td>NaN</td>\n",
       "      <td>70.000000</td>\n",
       "      <td>1.600000</td>\n",
       "      <td>NaN</td>\n",
       "      <td>NaN</td>\n",
       "      <td>2004.000000</td>\n",
       "      <td>NaN</td>\n",
       "      <td>NaN</td>\n",
       "    </tr>\n",
       "    <tr>\n",
       "      <th>50%</th>\n",
       "      <td>NaN</td>\n",
       "      <td>9200.000000</td>\n",
       "      <td>NaN</td>\n",
       "      <td>128.000000</td>\n",
       "      <td>2.000000</td>\n",
       "      <td>NaN</td>\n",
       "      <td>NaN</td>\n",
       "      <td>2008.000000</td>\n",
       "      <td>NaN</td>\n",
       "      <td>NaN</td>\n",
       "    </tr>\n",
       "    <tr>\n",
       "      <th>75%</th>\n",
       "      <td>NaN</td>\n",
       "      <td>16700.000000</td>\n",
       "      <td>NaN</td>\n",
       "      <td>194.000000</td>\n",
       "      <td>2.500000</td>\n",
       "      <td>NaN</td>\n",
       "      <td>NaN</td>\n",
       "      <td>2012.000000</td>\n",
       "      <td>NaN</td>\n",
       "      <td>NaN</td>\n",
       "    </tr>\n",
       "    <tr>\n",
       "      <th>max</th>\n",
       "      <td>NaN</td>\n",
       "      <td>547800.000000</td>\n",
       "      <td>NaN</td>\n",
       "      <td>999.000000</td>\n",
       "      <td>99.990000</td>\n",
       "      <td>NaN</td>\n",
       "      <td>NaN</td>\n",
       "      <td>2016.000000</td>\n",
       "      <td>NaN</td>\n",
       "      <td>NaN</td>\n",
       "    </tr>\n",
       "  </tbody>\n",
       "</table>\n",
       "</div>"
      ],
      "text/plain": [
       "               car          price   body      mileage         engV engType  \\\n",
       "count         9576    9576.000000   9576  9576.000000  9142.000000    9576   \n",
       "unique          87            NaN      6          NaN          NaN       4   \n",
       "top     Volkswagen            NaN  sedan          NaN          NaN  Petrol   \n",
       "freq           936            NaN   3646          NaN          NaN    4379   \n",
       "mean           NaN   15633.317316    NaN   138.862364     2.646344     NaN   \n",
       "std            NaN   24106.523436    NaN    98.629754     5.927699     NaN   \n",
       "min            NaN       0.000000    NaN     0.000000     0.100000     NaN   \n",
       "25%            NaN    4999.000000    NaN    70.000000     1.600000     NaN   \n",
       "50%            NaN    9200.000000    NaN   128.000000     2.000000     NaN   \n",
       "75%            NaN   16700.000000    NaN   194.000000     2.500000     NaN   \n",
       "max            NaN  547800.000000    NaN   999.000000    99.990000     NaN   \n",
       "\n",
       "       registration         year    model  drive  \n",
       "count          9576  9576.000000     9576   9065  \n",
       "unique            2          NaN      863      3  \n",
       "top             yes          NaN  E-Class  front  \n",
       "freq           9015          NaN      199   5188  \n",
       "mean            NaN  2006.605994      NaN    NaN  \n",
       "std             NaN     7.067924      NaN    NaN  \n",
       "min             NaN  1953.000000      NaN    NaN  \n",
       "25%             NaN  2004.000000      NaN    NaN  \n",
       "50%             NaN  2008.000000      NaN    NaN  \n",
       "75%             NaN  2012.000000      NaN    NaN  \n",
       "max             NaN  2016.000000      NaN    NaN  "
      ]
     },
     "execution_count": 24,
     "metadata": {},
     "output_type": "execute_result"
    }
   ],
   "source": [
    "cardata.describe(include= \"all\")"
   ]
  },
  {
   "cell_type": "code",
   "execution_count": 25,
   "id": "65ecb48c-4465-4782-b18d-e7d14411b46f",
   "metadata": {},
   "outputs": [
    {
     "data": {
      "text/html": [
       "<div>\n",
       "<style scoped>\n",
       "    .dataframe tbody tr th:only-of-type {\n",
       "        vertical-align: middle;\n",
       "    }\n",
       "\n",
       "    .dataframe tbody tr th {\n",
       "        vertical-align: top;\n",
       "    }\n",
       "\n",
       "    .dataframe thead th {\n",
       "        text-align: right;\n",
       "    }\n",
       "</style>\n",
       "<table border=\"1\" class=\"dataframe\">\n",
       "  <thead>\n",
       "    <tr style=\"text-align: right;\">\n",
       "      <th></th>\n",
       "      <th>car</th>\n",
       "      <th>price</th>\n",
       "      <th>body</th>\n",
       "      <th>mileage</th>\n",
       "      <th>engV</th>\n",
       "      <th>engType</th>\n",
       "      <th>registration</th>\n",
       "      <th>year</th>\n",
       "      <th>model</th>\n",
       "      <th>drive</th>\n",
       "    </tr>\n",
       "  </thead>\n",
       "  <tbody>\n",
       "    <tr>\n",
       "      <th>7621</th>\n",
       "      <td>Bentley</td>\n",
       "      <td>547800.0</td>\n",
       "      <td>sedan</td>\n",
       "      <td>0</td>\n",
       "      <td>6.75</td>\n",
       "      <td>Petrol</td>\n",
       "      <td>yes</td>\n",
       "      <td>2016</td>\n",
       "      <td>Mulsanne</td>\n",
       "      <td>rear</td>\n",
       "    </tr>\n",
       "    <tr>\n",
       "      <th>7914</th>\n",
       "      <td>Bentley</td>\n",
       "      <td>499999.0</td>\n",
       "      <td>crossover</td>\n",
       "      <td>0</td>\n",
       "      <td>6.00</td>\n",
       "      <td>Petrol</td>\n",
       "      <td>yes</td>\n",
       "      <td>2016</td>\n",
       "      <td>Bentayga</td>\n",
       "      <td>full</td>\n",
       "    </tr>\n",
       "    <tr>\n",
       "      <th>1611</th>\n",
       "      <td>Bentley</td>\n",
       "      <td>499999.0</td>\n",
       "      <td>crossover</td>\n",
       "      <td>0</td>\n",
       "      <td>6.00</td>\n",
       "      <td>Petrol</td>\n",
       "      <td>yes</td>\n",
       "      <td>2016</td>\n",
       "      <td>Bentayga</td>\n",
       "      <td>full</td>\n",
       "    </tr>\n",
       "    <tr>\n",
       "      <th>4134</th>\n",
       "      <td>Bentley</td>\n",
       "      <td>449999.0</td>\n",
       "      <td>crossover</td>\n",
       "      <td>0</td>\n",
       "      <td>6.00</td>\n",
       "      <td>Petrol</td>\n",
       "      <td>yes</td>\n",
       "      <td>2016</td>\n",
       "      <td>Bentayga</td>\n",
       "      <td>full</td>\n",
       "    </tr>\n",
       "    <tr>\n",
       "      <th>4325</th>\n",
       "      <td>Mercedes-Benz</td>\n",
       "      <td>300000.0</td>\n",
       "      <td>sedan</td>\n",
       "      <td>68</td>\n",
       "      <td>6.00</td>\n",
       "      <td>Petrol</td>\n",
       "      <td>yes</td>\n",
       "      <td>2011</td>\n",
       "      <td>S 600</td>\n",
       "      <td>NaN</td>\n",
       "    </tr>\n",
       "    <tr>\n",
       "      <th>...</th>\n",
       "      <td>...</td>\n",
       "      <td>...</td>\n",
       "      <td>...</td>\n",
       "      <td>...</td>\n",
       "      <td>...</td>\n",
       "      <td>...</td>\n",
       "      <td>...</td>\n",
       "      <td>...</td>\n",
       "      <td>...</td>\n",
       "      <td>...</td>\n",
       "    </tr>\n",
       "    <tr>\n",
       "      <th>70</th>\n",
       "      <td>Mercedes-Benz</td>\n",
       "      <td>0.0</td>\n",
       "      <td>crossover</td>\n",
       "      <td>0</td>\n",
       "      <td>3.00</td>\n",
       "      <td>Diesel</td>\n",
       "      <td>yes</td>\n",
       "      <td>2016</td>\n",
       "      <td>GLE-Class</td>\n",
       "      <td>full</td>\n",
       "    </tr>\n",
       "    <tr>\n",
       "      <th>158</th>\n",
       "      <td>Land Rover</td>\n",
       "      <td>0.0</td>\n",
       "      <td>crossover</td>\n",
       "      <td>45</td>\n",
       "      <td>3.00</td>\n",
       "      <td>Petrol</td>\n",
       "      <td>yes</td>\n",
       "      <td>2014</td>\n",
       "      <td>Range Rover Sport</td>\n",
       "      <td>full</td>\n",
       "    </tr>\n",
       "    <tr>\n",
       "      <th>4786</th>\n",
       "      <td>Mercedes-Benz</td>\n",
       "      <td>0.0</td>\n",
       "      <td>crossover</td>\n",
       "      <td>27</td>\n",
       "      <td>3.00</td>\n",
       "      <td>Diesel</td>\n",
       "      <td>yes</td>\n",
       "      <td>2015</td>\n",
       "      <td>G 350</td>\n",
       "      <td>full</td>\n",
       "    </tr>\n",
       "    <tr>\n",
       "      <th>4784</th>\n",
       "      <td>Rolls-Royce</td>\n",
       "      <td>0.0</td>\n",
       "      <td>sedan</td>\n",
       "      <td>22</td>\n",
       "      <td>6.75</td>\n",
       "      <td>Other</td>\n",
       "      <td>yes</td>\n",
       "      <td>2008</td>\n",
       "      <td>Phantom</td>\n",
       "      <td>rear</td>\n",
       "    </tr>\n",
       "    <tr>\n",
       "      <th>215</th>\n",
       "      <td>Mercedes-Benz</td>\n",
       "      <td>0.0</td>\n",
       "      <td>sedan</td>\n",
       "      <td>62</td>\n",
       "      <td>3.00</td>\n",
       "      <td>Diesel</td>\n",
       "      <td>yes</td>\n",
       "      <td>2013</td>\n",
       "      <td>S 350</td>\n",
       "      <td>rear</td>\n",
       "    </tr>\n",
       "  </tbody>\n",
       "</table>\n",
       "<p>9576 rows × 10 columns</p>\n",
       "</div>"
      ],
      "text/plain": [
       "                car     price       body  mileage  engV engType registration  \\\n",
       "7621        Bentley  547800.0      sedan        0  6.75  Petrol          yes   \n",
       "7914        Bentley  499999.0  crossover        0  6.00  Petrol          yes   \n",
       "1611        Bentley  499999.0  crossover        0  6.00  Petrol          yes   \n",
       "4134        Bentley  449999.0  crossover        0  6.00  Petrol          yes   \n",
       "4325  Mercedes-Benz  300000.0      sedan       68  6.00  Petrol          yes   \n",
       "...             ...       ...        ...      ...   ...     ...          ...   \n",
       "70    Mercedes-Benz       0.0  crossover        0  3.00  Diesel          yes   \n",
       "158      Land Rover       0.0  crossover       45  3.00  Petrol          yes   \n",
       "4786  Mercedes-Benz       0.0  crossover       27  3.00  Diesel          yes   \n",
       "4784    Rolls-Royce       0.0      sedan       22  6.75   Other          yes   \n",
       "215   Mercedes-Benz       0.0      sedan       62  3.00  Diesel          yes   \n",
       "\n",
       "      year              model drive  \n",
       "7621  2016           Mulsanne  rear  \n",
       "7914  2016           Bentayga  full  \n",
       "1611  2016           Bentayga  full  \n",
       "4134  2016           Bentayga  full  \n",
       "4325  2011              S 600   NaN  \n",
       "...    ...                ...   ...  \n",
       "70    2016          GLE-Class  full  \n",
       "158   2014  Range Rover Sport  full  \n",
       "4786  2015              G 350  full  \n",
       "4784  2008            Phantom  rear  \n",
       "215   2013              S 350  rear  \n",
       "\n",
       "[9576 rows x 10 columns]"
      ]
     },
     "execution_count": 25,
     "metadata": {},
     "output_type": "execute_result"
    }
   ],
   "source": [
    "cardata.sort_values(by=[\"price\"], ascending= False)"
   ]
  },
  {
   "cell_type": "code",
   "execution_count": 26,
   "id": "62e28d34-0a77-45d1-82e7-6782d5814790",
   "metadata": {},
   "outputs": [
    {
     "data": {
      "text/html": [
       "<div>\n",
       "<style scoped>\n",
       "    .dataframe tbody tr th:only-of-type {\n",
       "        vertical-align: middle;\n",
       "    }\n",
       "\n",
       "    .dataframe tbody tr th {\n",
       "        vertical-align: top;\n",
       "    }\n",
       "\n",
       "    .dataframe thead th {\n",
       "        text-align: right;\n",
       "    }\n",
       "</style>\n",
       "<table border=\"1\" class=\"dataframe\">\n",
       "  <thead>\n",
       "    <tr style=\"text-align: right;\">\n",
       "      <th></th>\n",
       "      <th>car</th>\n",
       "      <th>price</th>\n",
       "      <th>body</th>\n",
       "      <th>mileage</th>\n",
       "      <th>engV</th>\n",
       "      <th>engType</th>\n",
       "      <th>registration</th>\n",
       "      <th>year</th>\n",
       "      <th>model</th>\n",
       "      <th>drive</th>\n",
       "    </tr>\n",
       "  </thead>\n",
       "  <tbody>\n",
       "    <tr>\n",
       "      <th>7621</th>\n",
       "      <td>Bentley</td>\n",
       "      <td>547800.0</td>\n",
       "      <td>sedan</td>\n",
       "      <td>0</td>\n",
       "      <td>6.75</td>\n",
       "      <td>Petrol</td>\n",
       "      <td>yes</td>\n",
       "      <td>2016</td>\n",
       "      <td>Mulsanne</td>\n",
       "      <td>rear</td>\n",
       "    </tr>\n",
       "    <tr>\n",
       "      <th>7914</th>\n",
       "      <td>Bentley</td>\n",
       "      <td>499999.0</td>\n",
       "      <td>crossover</td>\n",
       "      <td>0</td>\n",
       "      <td>6.00</td>\n",
       "      <td>Petrol</td>\n",
       "      <td>yes</td>\n",
       "      <td>2016</td>\n",
       "      <td>Bentayga</td>\n",
       "      <td>full</td>\n",
       "    </tr>\n",
       "    <tr>\n",
       "      <th>1611</th>\n",
       "      <td>Bentley</td>\n",
       "      <td>499999.0</td>\n",
       "      <td>crossover</td>\n",
       "      <td>0</td>\n",
       "      <td>6.00</td>\n",
       "      <td>Petrol</td>\n",
       "      <td>yes</td>\n",
       "      <td>2016</td>\n",
       "      <td>Bentayga</td>\n",
       "      <td>full</td>\n",
       "    </tr>\n",
       "    <tr>\n",
       "      <th>4134</th>\n",
       "      <td>Bentley</td>\n",
       "      <td>449999.0</td>\n",
       "      <td>crossover</td>\n",
       "      <td>0</td>\n",
       "      <td>6.00</td>\n",
       "      <td>Petrol</td>\n",
       "      <td>yes</td>\n",
       "      <td>2016</td>\n",
       "      <td>Bentayga</td>\n",
       "      <td>full</td>\n",
       "    </tr>\n",
       "    <tr>\n",
       "      <th>4325</th>\n",
       "      <td>Mercedes-Benz</td>\n",
       "      <td>300000.0</td>\n",
       "      <td>sedan</td>\n",
       "      <td>68</td>\n",
       "      <td>6.00</td>\n",
       "      <td>Petrol</td>\n",
       "      <td>yes</td>\n",
       "      <td>2011</td>\n",
       "      <td>S 600</td>\n",
       "      <td>NaN</td>\n",
       "    </tr>\n",
       "    <tr>\n",
       "      <th>5849</th>\n",
       "      <td>Mercedes-Benz</td>\n",
       "      <td>300000.0</td>\n",
       "      <td>other</td>\n",
       "      <td>37</td>\n",
       "      <td>5.00</td>\n",
       "      <td>Petrol</td>\n",
       "      <td>yes</td>\n",
       "      <td>2012</td>\n",
       "      <td>G 500</td>\n",
       "      <td>full</td>\n",
       "    </tr>\n",
       "    <tr>\n",
       "      <th>1891</th>\n",
       "      <td>Mercedes-Benz</td>\n",
       "      <td>295000.0</td>\n",
       "      <td>sedan</td>\n",
       "      <td>29</td>\n",
       "      <td>6.00</td>\n",
       "      <td>Petrol</td>\n",
       "      <td>yes</td>\n",
       "      <td>2011</td>\n",
       "      <td>S 600</td>\n",
       "      <td>rear</td>\n",
       "    </tr>\n",
       "    <tr>\n",
       "      <th>2165</th>\n",
       "      <td>Mercedes-Benz</td>\n",
       "      <td>295000.0</td>\n",
       "      <td>sedan</td>\n",
       "      <td>29</td>\n",
       "      <td>6.00</td>\n",
       "      <td>Petrol</td>\n",
       "      <td>yes</td>\n",
       "      <td>2011</td>\n",
       "      <td>S-Guard</td>\n",
       "      <td>rear</td>\n",
       "    </tr>\n",
       "    <tr>\n",
       "      <th>8205</th>\n",
       "      <td>Land Rover</td>\n",
       "      <td>285000.0</td>\n",
       "      <td>crossover</td>\n",
       "      <td>0</td>\n",
       "      <td>5.00</td>\n",
       "      <td>Petrol</td>\n",
       "      <td>yes</td>\n",
       "      <td>2016</td>\n",
       "      <td>Range Rover</td>\n",
       "      <td>full</td>\n",
       "    </tr>\n",
       "    <tr>\n",
       "      <th>1478</th>\n",
       "      <td>Bentley</td>\n",
       "      <td>259000.0</td>\n",
       "      <td>sedan</td>\n",
       "      <td>0</td>\n",
       "      <td>6.00</td>\n",
       "      <td>Petrol</td>\n",
       "      <td>yes</td>\n",
       "      <td>2014</td>\n",
       "      <td>Flying Spur</td>\n",
       "      <td>full</td>\n",
       "    </tr>\n",
       "  </tbody>\n",
       "</table>\n",
       "</div>"
      ],
      "text/plain": [
       "                car     price       body  mileage  engV engType registration  \\\n",
       "7621        Bentley  547800.0      sedan        0  6.75  Petrol          yes   \n",
       "7914        Bentley  499999.0  crossover        0  6.00  Petrol          yes   \n",
       "1611        Bentley  499999.0  crossover        0  6.00  Petrol          yes   \n",
       "4134        Bentley  449999.0  crossover        0  6.00  Petrol          yes   \n",
       "4325  Mercedes-Benz  300000.0      sedan       68  6.00  Petrol          yes   \n",
       "5849  Mercedes-Benz  300000.0      other       37  5.00  Petrol          yes   \n",
       "1891  Mercedes-Benz  295000.0      sedan       29  6.00  Petrol          yes   \n",
       "2165  Mercedes-Benz  295000.0      sedan       29  6.00  Petrol          yes   \n",
       "8205     Land Rover  285000.0  crossover        0  5.00  Petrol          yes   \n",
       "1478        Bentley  259000.0      sedan        0  6.00  Petrol          yes   \n",
       "\n",
       "      year        model drive  \n",
       "7621  2016     Mulsanne  rear  \n",
       "7914  2016     Bentayga  full  \n",
       "1611  2016     Bentayga  full  \n",
       "4134  2016     Bentayga  full  \n",
       "4325  2011        S 600   NaN  \n",
       "5849  2012        G 500  full  \n",
       "1891  2011        S 600  rear  \n",
       "2165  2011      S-Guard  rear  \n",
       "8205  2016  Range Rover  full  \n",
       "1478  2014  Flying Spur  full  "
      ]
     },
     "execution_count": 26,
     "metadata": {},
     "output_type": "execute_result"
    }
   ],
   "source": [
    "cardata.sort_values(by=[\"price\"], ascending= False).head(10)"
   ]
  },
  {
   "cell_type": "raw",
   "id": "16060374-21ae-4d41-b04d-2a1f9e28b1d3",
   "metadata": {},
   "source": [
    "It is observed that the Bently car with sedan body is the most expensive of all cars."
   ]
  },
  {
   "cell_type": "code",
   "execution_count": 4,
   "id": "552e15a7-85dd-43b6-9a40-96b59046ad2a",
   "metadata": {},
   "outputs": [
    {
     "data": {
      "text/plain": [
       "car\n",
       "Volkswagen       936\n",
       "Mercedes-Benz    921\n",
       "BMW              694\n",
       "Toyota           541\n",
       "VAZ              489\n",
       "                ... \n",
       "Fisker             1\n",
       "Samsung            1\n",
       "Maserati           1\n",
       "Saab               1\n",
       "Lamborghini        1\n",
       "Name: price, Length: 87, dtype: int64"
      ]
     },
     "execution_count": 4,
     "metadata": {},
     "output_type": "execute_result"
    }
   ],
   "source": [
    "cardata.groupby('car')['price'].count().sort_values(ascending=False)"
   ]
  },
  {
   "cell_type": "markdown",
   "id": "7096fe4f-73f3-46c0-9299-c472d12eea42",
   "metadata": {},
   "source": [
    "It is observed that\n",
    "The top 3 cars in term of sales are Volkswagen, Mercedes-Benz and BMW.\n",
    "Even though BMW comes in top 3 but the sales is a bit lower in number of sales as compered to Volkswagen, Mercedes-Benz."
   ]
  },
  {
   "cell_type": "code",
   "execution_count": 2,
   "id": "19e3441a-7f70-45fc-b7e7-83f4804bfbda",
   "metadata": {},
   "outputs": [
    {
     "ename": "NameError",
     "evalue": "name 'cardata' is not defined",
     "output_type": "error",
     "traceback": [
      "\u001b[0;31m---------------------------------------------------------------------------\u001b[0m",
      "\u001b[0;31mNameError\u001b[0m                                 Traceback (most recent call last)",
      "Cell \u001b[0;32mIn [2], line 1\u001b[0m\n\u001b[0;32m----> 1\u001b[0m \u001b[43mcardata\u001b[49m\u001b[38;5;241m.\u001b[39mcorr()\n",
      "\u001b[0;31mNameError\u001b[0m: name 'cardata' is not defined"
     ]
    }
   ],
   "source": [
    "cardata.corr()"
   ]
  },
  {
   "cell_type": "markdown",
   "id": "7aa91c30-dc3c-4552-8ca2-09fa6e38bee5",
   "metadata": {},
   "source": [
    "\n"
   ]
  },
  {
   "cell_type": "code",
   "execution_count": 18,
   "id": "09e41882-3343-48da-8c81-e58c320c62eb",
   "metadata": {},
   "outputs": [
    {
     "name": "stderr",
     "output_type": "stream",
     "text": [
      "/tmp/ipykernel_112/3839726909.py:2: FutureWarning: The default value of numeric_only in DataFrame.corr is deprecated. In a future version, it will default to False. Select only valid columns or specify the value of numeric_only to silence this warning.\n",
      "  sea.heatmap(cardata.corr(),annot=True)\n"
     ]
    },
    {
     "data": {
      "text/plain": [
       "<AxesSubplot: >"
      ]
     },
     "execution_count": 18,
     "metadata": {},
     "output_type": "execute_result"
    },
    {
     "data": {
      "image/png": "[encoded data removed]",
      "text/plain": [
       "<Figure size 500x1000 with 2 Axes>"
      ]
     },
     "metadata": {},
     "output_type": "display_data"
    }
   ],
   "source": [
    "plt.subplots(figsize=(5,10))\n",
    "sea.heatmap(cardata.corr(),annot=True)"
   ]
  },
  {
   "cell_type": "markdown",
   "id": "511e8370-14da-4671-b513-e6011fb38bcb",
   "metadata": {},
   "source": [
    "It is observed that \n",
    "Price and year are positively correlated.\n",
    "Price and Mileage are negatively correlated."
   ]
  },
  {
   "cell_type": "raw",
   "id": "18ac7610-884f-4091-9f85-eb8368451408",
   "metadata": {},
   "source": []
  },
  {
   "cell_type": "code",
   "execution_count": 19,
   "id": "5bd9f0dc-6bb6-403d-93ed-54eb81bd073c",
   "metadata": {},
   "outputs": [
    {
     "data": {
      "text/html": [
       "<div>\n",
       "<style scoped>\n",
       "    .dataframe tbody tr th:only-of-type {\n",
       "        vertical-align: middle;\n",
       "    }\n",
       "\n",
       "    .dataframe tbody tr th {\n",
       "        vertical-align: top;\n",
       "    }\n",
       "\n",
       "    .dataframe thead th {\n",
       "        text-align: right;\n",
       "    }\n",
       "</style>\n",
       "<table border=\"1\" class=\"dataframe\">\n",
       "  <thead>\n",
       "    <tr style=\"text-align: right;\">\n",
       "      <th></th>\n",
       "      <th>car</th>\n",
       "      <th>price</th>\n",
       "      <th>body</th>\n",
       "      <th>mileage</th>\n",
       "      <th>engV</th>\n",
       "      <th>engType</th>\n",
       "      <th>registration</th>\n",
       "      <th>year</th>\n",
       "      <th>model</th>\n",
       "      <th>drive</th>\n",
       "    </tr>\n",
       "  </thead>\n",
       "  <tbody>\n",
       "    <tr>\n",
       "      <th>9571</th>\n",
       "      <td>Hyundai</td>\n",
       "      <td>14500.0</td>\n",
       "      <td>crossover</td>\n",
       "      <td>140</td>\n",
       "      <td>2.0</td>\n",
       "      <td>Gas</td>\n",
       "      <td>yes</td>\n",
       "      <td>2011</td>\n",
       "      <td>Tucson</td>\n",
       "      <td>front</td>\n",
       "    </tr>\n",
       "    <tr>\n",
       "      <th>9572</th>\n",
       "      <td>Volkswagen</td>\n",
       "      <td>2200.0</td>\n",
       "      <td>vagon</td>\n",
       "      <td>150</td>\n",
       "      <td>1.6</td>\n",
       "      <td>Petrol</td>\n",
       "      <td>yes</td>\n",
       "      <td>1986</td>\n",
       "      <td>Passat B2</td>\n",
       "      <td>front</td>\n",
       "    </tr>\n",
       "    <tr>\n",
       "      <th>9573</th>\n",
       "      <td>Mercedes-Benz</td>\n",
       "      <td>18500.0</td>\n",
       "      <td>crossover</td>\n",
       "      <td>180</td>\n",
       "      <td>3.5</td>\n",
       "      <td>Petrol</td>\n",
       "      <td>yes</td>\n",
       "      <td>2008</td>\n",
       "      <td>ML 350</td>\n",
       "      <td>full</td>\n",
       "    </tr>\n",
       "    <tr>\n",
       "      <th>9574</th>\n",
       "      <td>Lexus</td>\n",
       "      <td>16999.0</td>\n",
       "      <td>sedan</td>\n",
       "      <td>150</td>\n",
       "      <td>3.5</td>\n",
       "      <td>Gas</td>\n",
       "      <td>yes</td>\n",
       "      <td>2008</td>\n",
       "      <td>ES 350</td>\n",
       "      <td>front</td>\n",
       "    </tr>\n",
       "    <tr>\n",
       "      <th>9575</th>\n",
       "      <td>Audi</td>\n",
       "      <td>22500.0</td>\n",
       "      <td>other</td>\n",
       "      <td>71</td>\n",
       "      <td>3.6</td>\n",
       "      <td>Petrol</td>\n",
       "      <td>yes</td>\n",
       "      <td>2007</td>\n",
       "      <td>Q7</td>\n",
       "      <td>full</td>\n",
       "    </tr>\n",
       "  </tbody>\n",
       "</table>\n",
       "</div>"
      ],
      "text/plain": [
       "                car    price       body  mileage  engV engType registration  \\\n",
       "9571        Hyundai  14500.0  crossover      140   2.0     Gas          yes   \n",
       "9572     Volkswagen   2200.0      vagon      150   1.6  Petrol          yes   \n",
       "9573  Mercedes-Benz  18500.0  crossover      180   3.5  Petrol          yes   \n",
       "9574          Lexus  16999.0      sedan      150   3.5     Gas          yes   \n",
       "9575           Audi  22500.0      other       71   3.6  Petrol          yes   \n",
       "\n",
       "      year      model  drive  \n",
       "9571  2011     Tucson  front  \n",
       "9572  1986  Passat B2  front  \n",
       "9573  2008     ML 350   full  \n",
       "9574  2008     ES 350  front  \n",
       "9575  2007         Q7   full  "
      ]
     },
     "execution_count": 19,
     "metadata": {},
     "output_type": "execute_result"
    }
   ],
   "source": [
    "cardata.tail()"
   ]
  },
  {
   "cell_type": "code",
   "execution_count": null,
   "id": "adff9393-0b7f-4696-8b4a-52b139f881d8",
   "metadata": {},
   "outputs": [],
   "source": [
    "immutation, categorical data= mode"
   ]
  },
  {
   "cell_type": "code",
   "execution_count": 20,
   "id": "21d0f559-d7de-42bb-9bb1-2808a35f617d",
   "metadata": {},
   "outputs": [
    {
     "data": {
      "text/plain": [
       "car               0\n",
       "price             0\n",
       "body              0\n",
       "mileage           0\n",
       "engV            434\n",
       "engType           0\n",
       "registration      0\n",
       "year              0\n",
       "model             0\n",
       "drive           511\n",
       "dtype: int64"
      ]
     },
     "execution_count": 20,
     "metadata": {},
     "output_type": "execute_result"
    }
   ],
   "source": [
    "cardata.isnull().sum()"
   ]
  },
  {
   "cell_type": "markdown",
   "id": "5968747c-48bc-4069-8cb2-37665387ad9b",
   "metadata": {},
   "source": [
    "engV has 434 null values and drive has 511 null values. We need to impute the values."
   ]
  },
  {
   "cell_type": "code",
   "execution_count": 25,
   "id": "000a5b24-55b9-4709-9494-5448a67b085d",
   "metadata": {},
   "outputs": [
    {
     "data": {
      "text/plain": [
       "<AxesSubplot: >"
      ]
     },
     "execution_count": 25,
     "metadata": {},
     "output_type": "execute_result"
    },
    {
     "data": {
      "image/png": "[encoded data removed]",
      "text/plain": [
       "<Figure size 640x480 with 1 Axes>"
      ]
     },
     "metadata": {},
     "output_type": "display_data"
    }
   ],
   "source": [
    "sea.boxplot(data=cardata.engV)"
   ]
  },
  {
   "cell_type": "markdown",
   "id": "3accf44b-2785-41ca-b61b-54470dc166ba",
   "metadata": {},
   "source": [
    "It is observed that there are many outliers in the data."
   ]
  },
  {
   "cell_type": "code",
   "execution_count": null,
   "id": "681067ed-6f17-4e38-9936-d8755a3efacb",
   "metadata": {},
   "outputs": [
    {
     "name": "stdout",
     "output_type": "stream",
     "text": [
      "Collecting pandas_profiling\n",
      "  Downloading pandas_profiling-3.6.3-py2.py3-none-any.whl (328 kB)\n",
      "\u001b[2K     \u001b[90m━━━━━━━━━━━━━━━━━━━━━━━━━━━━━━━━━━━━━━\u001b[0m \u001b[32m328.8/328.8 kB\u001b[0m \u001b[31m18.8 MB/s\u001b[0m eta \u001b[36m0:00:00\u001b[0m\n",
      "\u001b[?25hRequirement already satisfied: pandas!=1.4.0,<1.6,>1.1 in /opt/conda/lib/python3.10/site-packages (from pandas_profiling) (1.5.1)\n",
      "Requirement already satisfied: statsmodels<0.14,>=0.13.2 in /opt/conda/lib/python3.10/site-packages (from pandas_profiling) (0.13.2)\n",
      "Requirement already satisfied: tqdm<4.65,>=4.48.2 in /opt/conda/lib/python3.10/site-packages (from pandas_profiling) (4.64.1)\n",
      "Collecting pydantic<1.11,>=1.8.1\n",
      "  Downloading pydantic-1.10.4-cp310-cp310-manylinux_2_17_x86_64.manylinux2014_x86_64.whl (3.1 MB)\n",
      "\u001b[2K     \u001b[90m━━━━━━━━━━━━━━━━━━━━━━━━━━━━━━━━━━━━━━━━\u001b[0m \u001b[32m3.1/3.1 MB\u001b[0m \u001b[31m43.3 MB/s\u001b[0m eta \u001b[36m0:00:00\u001b[0ma \u001b[36m0:00:01\u001b[0m\n",
      "\u001b[?25hCollecting multimethod<1.10,>=1.4\n",
      "  Downloading multimethod-1.9.1-py3-none-any.whl (10 kB)\n",
      "Collecting typeguard<2.14,>=2.13.2\n",
      "  Downloading typeguard-2.13.3-py3-none-any.whl (17 kB)\n",
      "Requirement already satisfied: PyYAML<6.1,>=5.0.0 in /opt/conda/lib/python3.10/site-packages (from pandas_profiling) (6.0)\n",
      "Requirement already satisfied: seaborn<0.13,>=0.10.1 in /opt/conda/lib/python3.10/site-packages (from pandas_profiling) (0.12.0)\n",
      "Collecting visions[type_image_path]==0.7.5\n",
      "  Downloading visions-0.7.5-py3-none-any.whl (102 kB)\n",
      "\u001b[2K     \u001b[90m━━━━━━━━━━━━━━━━━━━━━━━━━━━━━━━━━━━━━━━\u001b[0m \u001b[32m102.7/102.7 kB\u001b[0m \u001b[31m9.9 MB/s\u001b[0m eta \u001b[36m0:00:00\u001b[0m\n",
      "\u001b[?25hCollecting htmlmin==0.1.12\n",
      "  Downloading htmlmin-0.1.12.tar.gz (19 kB)\n",
      "  Preparing metadata (setup.py) ... \u001b[?25ldone\n",
      "\u001b[?25hRequirement already satisfied: requests<2.29,>=2.24.0 in /opt/conda/lib/python3.10/site-packages (from pandas_profiling) (2.28.1)\n",
      "Requirement already satisfied: numpy<1.24,>=1.16.0 in /opt/conda/lib/python3.10/site-packages (from pandas_profiling) (1.23.4)\n",
      "Requirement already satisfied: matplotlib<3.7,>=3.2 in /opt/conda/lib/python3.10/site-packages (from pandas_profiling) (3.6.1)\n",
      "Requirement already satisfied: scipy<1.10,>=1.4.1 in /opt/conda/lib/python3.10/site-packages (from pandas_profiling) (1.9.3)\n",
      "Requirement already satisfied: jinja2<3.2,>=2.11.1 in /opt/conda/lib/python3.10/site-packages (from pandas_profiling) (3.1.2)\n",
      "Collecting phik<0.13,>=0.11.1\n",
      "  Downloading phik-0.12.3-cp310-cp310-manylinux_2_17_x86_64.manylinux2014_x86_64.whl (679 kB)\n",
      "\u001b[2K     \u001b[90m━━━━━━━━━━━━━━━━━━━━━━━━━━━━━━━━━━━━━━\u001b[0m \u001b[32m679.5/679.5 kB\u001b[0m \u001b[31m38.0 MB/s\u001b[0m eta \u001b[36m0:00:00\u001b[0m\n",
      "\u001b[?25hRequirement already satisfied: networkx>=2.4 in /opt/conda/lib/python3.10/site-packages (from visions[type_image_path]==0.7.5->pandas_profiling) (2.8.7)\n",
      "Collecting tangled-up-in-unicode>=0.0.4\n",
      "  Downloading tangled_up_in_unicode-0.2.0-py3-none-any.whl (4.7 MB)\n",
      "\u001b[2K     \u001b[90m━━━━━━━━━━━━━━━━━━━━━━━━━━━━━━━━━━━━━━━━\u001b[0m \u001b[32m4.7/4.7 MB\u001b[0m \u001b[31m46.8 MB/s\u001b[0m eta \u001b[36m0:00:00\u001b[0m00:01\u001b[0m00:01\u001b[0m\n",
      "\u001b[?25hRequirement already satisfied: attrs>=19.3.0 in /opt/conda/lib/python3.10/site-packages (from visions[type_image_path]==0.7.5->pandas_profiling) (22.1.0)\n",
      "Collecting imagehash\n",
      "  Downloading ImageHash-4.3.1-py2.py3-none-any.whl (296 kB)\n",
      "\u001b[2K     \u001b[90m━━━━━━━━━━━━━━━━━━━━━━━━━━━━━━━━━━━━━━\u001b[0m \u001b[32m296.5/296.5 kB\u001b[0m \u001b[31m34.0 MB/s\u001b[0m eta \u001b[36m0:00:00\u001b[0m\n",
      "\u001b[?25hRequirement already satisfied: Pillow in /opt/conda/lib/python3.10/site-packages (from visions[type_image_path]==0.7.5->pandas_profiling) (9.2.0)\n",
      "Requirement already satisfied: MarkupSafe>=2.0 in /opt/conda/lib/python3.10/site-packages (from jinja2<3.2,>=2.11.1->pandas_profiling) (2.1.1)\n",
      "Requirement already satisfied: contourpy>=1.0.1 in /opt/conda/lib/python3.10/site-packages (from matplotlib<3.7,>=3.2->pandas_profiling) (1.0.5)\n",
      "Requirement already satisfied: python-dateutil>=2.7 in /opt/conda/lib/python3.10/site-packages (from matplotlib<3.7,>=3.2->pandas_profiling) (2.8.2)\n",
      "Requirement already satisfied: kiwisolver>=1.0.1 in /opt/conda/lib/python3.10/site-packages (from matplotlib<3.7,>=3.2->pandas_profiling) (1.4.4)\n",
      "Requirement already satisfied: pyparsing>=2.2.1 in /opt/conda/lib/python3.10/site-packages (from matplotlib<3.7,>=3.2->pandas_profiling) (3.0.9)\n",
      "Requirement already satisfied: cycler>=0.10 in /opt/conda/lib/python3.10/site-packages (from matplotlib<3.7,>=3.2->pandas_profiling) (0.11.0)\n",
      "Requirement already satisfied: packaging>=20.0 in /opt/conda/lib/python3.10/site-packages (from matplotlib<3.7,>=3.2->pandas_profiling) (21.3)\n",
      "Requirement already satisfied: fonttools>=4.22.0 in /opt/conda/lib/python3.10/site-packages (from matplotlib<3.7,>=3.2->pandas_profiling) (4.38.0)\n",
      "Requirement already satisfied: pytz>=2020.1 in /opt/conda/lib/python3.10/site-packages (from pandas!=1.4.0,<1.6,>1.1->pandas_profiling) (2022.5)\n",
      "Requirement already satisfied: joblib>=0.14.1 in /opt/conda/lib/python3.10/site-packages (from phik<0.13,>=0.11.1->pandas_profiling) (1.2.0)\n",
      "Requirement already satisfied: typing-extensions>=4.2.0 in /opt/conda/lib/python3.10/site-packages (from pydantic<1.11,>=1.8.1->pandas_profiling) (4.4.0)\n",
      "Requirement already satisfied: certifi>=2017.4.17 in /opt/conda/lib/python3.10/site-packages (from requests<2.29,>=2.24.0->pandas_profiling) (2022.9.24)\n",
      "Requirement already satisfied: urllib3<1.27,>=1.21.1 in /opt/conda/lib/python3.10/site-packages (from requests<2.29,>=2.24.0->pandas_profiling) (1.26.11)\n",
      "Requirement already satisfied: charset-normalizer<3,>=2 in /opt/conda/lib/python3.10/site-packages (from requests<2.29,>=2.24.0->pandas_profiling) (2.1.1)\n",
      "Requirement already satisfied: idna<4,>=2.5 in /opt/conda/lib/python3.10/site-packages (from requests<2.29,>=2.24.0->pandas_profiling) (3.4)\n",
      "Requirement already satisfied: patsy>=0.5.2 in /opt/conda/lib/python3.10/site-packages (from statsmodels<0.14,>=0.13.2->pandas_profiling) (0.5.3)\n",
      "Requirement already satisfied: six in /opt/conda/lib/python3.10/site-packages (from patsy>=0.5.2->statsmodels<0.14,>=0.13.2->pandas_profiling) (1.16.0)\n",
      "Requirement already satisfied: PyWavelets in /opt/conda/lib/python3.10/site-packages (from imagehash->visions[type_image_path]==0.7.5->pandas_profiling) (1.3.0)\n",
      "Building wheels for collected packages: htmlmin\n",
      "  Building wheel for htmlmin (setup.py) ... \u001b[?25ldone\n",
      "\u001b[?25h  Created wheel for htmlmin: filename=htmlmin-0.1.12-py3-none-any.whl size=27082 sha256=f3c1875dd69dbf89b958010b84c840ffdfb8988ee8055b608a29fc7d9b21fdee\n",
      "  Stored in directory: /home/jovyan/.cache/pip/wheels/ea/1c/a8/5cec3479cd45136a7111e2d96aac299b219b199c411665250b\n",
      "Successfully built htmlmin\n",
      "Installing collected packages: htmlmin, typeguard, tangled-up-in-unicode, pydantic, multimethod, imagehash, visions, phik, pandas_profiling\n"
     ]
    }
   ],
   "source": [
    "pip install pandas_profiling"
   ]
  },
  {
   "cell_type": "code",
   "execution_count": 8,
   "id": "fb475966-c736-4f25-879d-0bbe402b751d",
   "metadata": {},
   "outputs": [],
   "source": [
    "import pandas_profiling\n",
    "profile= pandas_profiling.ProfileReport(cardata)"
   ]
  },
  {
   "cell_type": "code",
   "execution_count": 8,
   "id": "2c896e4c-b5f1-4050-9710-f704f79b38ba",
   "metadata": {},
   "outputs": [
    {
     "data": {
      "text/plain": [
       "113"
      ]
     },
     "execution_count": 8,
     "metadata": {},
     "output_type": "execute_result"
    }
   ],
   "source": [
    "cardata.duplicated().sum()"
   ]
  },
  {
   "cell_type": "code",
   "execution_count": 4,
   "id": "a6a8b524-dcad-42a9-bb98-d6a9ffa22087",
   "metadata": {},
   "outputs": [
    {
     "data": {
      "text/html": [
       "<div>\n",
       "<style scoped>\n",
       "    .dataframe tbody tr th:only-of-type {\n",
       "        vertical-align: middle;\n",
       "    }\n",
       "\n",
       "    .dataframe tbody tr th {\n",
       "        vertical-align: top;\n",
       "    }\n",
       "\n",
       "    .dataframe thead th {\n",
       "        text-align: right;\n",
       "    }\n",
       "</style>\n",
       "<table border=\"1\" class=\"dataframe\">\n",
       "  <thead>\n",
       "    <tr style=\"text-align: right;\">\n",
       "      <th></th>\n",
       "      <th>car</th>\n",
       "      <th>price</th>\n",
       "      <th>body</th>\n",
       "      <th>mileage</th>\n",
       "      <th>engV</th>\n",
       "      <th>engType</th>\n",
       "      <th>registration</th>\n",
       "      <th>year</th>\n",
       "      <th>model</th>\n",
       "      <th>drive</th>\n",
       "    </tr>\n",
       "  </thead>\n",
       "  <tbody>\n",
       "    <tr>\n",
       "      <th>18</th>\n",
       "      <td>Nissan</td>\n",
       "      <td>16600.0</td>\n",
       "      <td>crossover</td>\n",
       "      <td>83</td>\n",
       "      <td>2.0</td>\n",
       "      <td>Petrol</td>\n",
       "      <td>yes</td>\n",
       "      <td>2013</td>\n",
       "      <td>X-Trail</td>\n",
       "      <td>full</td>\n",
       "    </tr>\n",
       "    <tr>\n",
       "      <th>42</th>\n",
       "      <td>Mercedes-Benz</td>\n",
       "      <td>20400.0</td>\n",
       "      <td>sedan</td>\n",
       "      <td>190</td>\n",
       "      <td>1.8</td>\n",
       "      <td>Gas</td>\n",
       "      <td>yes</td>\n",
       "      <td>2011</td>\n",
       "      <td>E-Class</td>\n",
       "      <td>rear</td>\n",
       "    </tr>\n",
       "    <tr>\n",
       "      <th>70</th>\n",
       "      <td>Mercedes-Benz</td>\n",
       "      <td>0.0</td>\n",
       "      <td>crossover</td>\n",
       "      <td>0</td>\n",
       "      <td>3.0</td>\n",
       "      <td>Diesel</td>\n",
       "      <td>yes</td>\n",
       "      <td>2016</td>\n",
       "      <td>GLE-Class</td>\n",
       "      <td>full</td>\n",
       "    </tr>\n",
       "    <tr>\n",
       "      <th>86</th>\n",
       "      <td>Toyota</td>\n",
       "      <td>103999.0</td>\n",
       "      <td>crossover</td>\n",
       "      <td>0</td>\n",
       "      <td>4.5</td>\n",
       "      <td>Diesel</td>\n",
       "      <td>yes</td>\n",
       "      <td>2016</td>\n",
       "      <td>Land Cruiser 200</td>\n",
       "      <td>full</td>\n",
       "    </tr>\n",
       "    <tr>\n",
       "      <th>98</th>\n",
       "      <td>Mercedes-Benz</td>\n",
       "      <td>20400.0</td>\n",
       "      <td>sedan</td>\n",
       "      <td>190</td>\n",
       "      <td>1.8</td>\n",
       "      <td>Gas</td>\n",
       "      <td>yes</td>\n",
       "      <td>2011</td>\n",
       "      <td>E-Class</td>\n",
       "      <td>rear</td>\n",
       "    </tr>\n",
       "    <tr>\n",
       "      <th>...</th>\n",
       "      <td>...</td>\n",
       "      <td>...</td>\n",
       "      <td>...</td>\n",
       "      <td>...</td>\n",
       "      <td>...</td>\n",
       "      <td>...</td>\n",
       "      <td>...</td>\n",
       "      <td>...</td>\n",
       "      <td>...</td>\n",
       "      <td>...</td>\n",
       "    </tr>\n",
       "    <tr>\n",
       "      <th>9156</th>\n",
       "      <td>Volkswagen</td>\n",
       "      <td>15700.0</td>\n",
       "      <td>sedan</td>\n",
       "      <td>110</td>\n",
       "      <td>1.8</td>\n",
       "      <td>Petrol</td>\n",
       "      <td>yes</td>\n",
       "      <td>2011</td>\n",
       "      <td>Passat B7</td>\n",
       "      <td>front</td>\n",
       "    </tr>\n",
       "    <tr>\n",
       "      <th>9163</th>\n",
       "      <td>Mercedes-Benz</td>\n",
       "      <td>20500.0</td>\n",
       "      <td>sedan</td>\n",
       "      <td>222</td>\n",
       "      <td>5.5</td>\n",
       "      <td>Petrol</td>\n",
       "      <td>yes</td>\n",
       "      <td>2006</td>\n",
       "      <td>S 500</td>\n",
       "      <td>rear</td>\n",
       "    </tr>\n",
       "    <tr>\n",
       "      <th>9164</th>\n",
       "      <td>VAZ</td>\n",
       "      <td>3900.0</td>\n",
       "      <td>hatch</td>\n",
       "      <td>121</td>\n",
       "      <td>1.4</td>\n",
       "      <td>Petrol</td>\n",
       "      <td>yes</td>\n",
       "      <td>2008</td>\n",
       "      <td>1119</td>\n",
       "      <td>front</td>\n",
       "    </tr>\n",
       "    <tr>\n",
       "      <th>9169</th>\n",
       "      <td>Hyundai</td>\n",
       "      <td>12900.0</td>\n",
       "      <td>crossover</td>\n",
       "      <td>49</td>\n",
       "      <td>2.7</td>\n",
       "      <td>Petrol</td>\n",
       "      <td>yes</td>\n",
       "      <td>2008</td>\n",
       "      <td>Tucson</td>\n",
       "      <td>full</td>\n",
       "    </tr>\n",
       "    <tr>\n",
       "      <th>9477</th>\n",
       "      <td>BMW</td>\n",
       "      <td>77777.0</td>\n",
       "      <td>sedan</td>\n",
       "      <td>8</td>\n",
       "      <td>4.4</td>\n",
       "      <td>Petrol</td>\n",
       "      <td>yes</td>\n",
       "      <td>2014</td>\n",
       "      <td>750</td>\n",
       "      <td>full</td>\n",
       "    </tr>\n",
       "  </tbody>\n",
       "</table>\n",
       "<p>113 rows × 10 columns</p>\n",
       "</div>"
      ],
      "text/plain": [
       "                car     price       body  mileage  engV engType registration  \\\n",
       "18           Nissan   16600.0  crossover       83   2.0  Petrol          yes   \n",
       "42    Mercedes-Benz   20400.0      sedan      190   1.8     Gas          yes   \n",
       "70    Mercedes-Benz       0.0  crossover        0   3.0  Diesel          yes   \n",
       "86           Toyota  103999.0  crossover        0   4.5  Diesel          yes   \n",
       "98    Mercedes-Benz   20400.0      sedan      190   1.8     Gas          yes   \n",
       "...             ...       ...        ...      ...   ...     ...          ...   \n",
       "9156     Volkswagen   15700.0      sedan      110   1.8  Petrol          yes   \n",
       "9163  Mercedes-Benz   20500.0      sedan      222   5.5  Petrol          yes   \n",
       "9164            VAZ    3900.0      hatch      121   1.4  Petrol          yes   \n",
       "9169        Hyundai   12900.0  crossover       49   2.7  Petrol          yes   \n",
       "9477            BMW   77777.0      sedan        8   4.4  Petrol          yes   \n",
       "\n",
       "      year             model  drive  \n",
       "18    2013           X-Trail   full  \n",
       "42    2011           E-Class   rear  \n",
       "70    2016         GLE-Class   full  \n",
       "86    2016  Land Cruiser 200   full  \n",
       "98    2011           E-Class   rear  \n",
       "...    ...               ...    ...  \n",
       "9156  2011         Passat B7  front  \n",
       "9163  2006             S 500   rear  \n",
       "9164  2008              1119  front  \n",
       "9169  2008            Tucson   full  \n",
       "9477  2014               750   full  \n",
       "\n",
       "[113 rows x 10 columns]"
      ]
     },
     "execution_count": 4,
     "metadata": {},
     "output_type": "execute_result"
    }
   ],
   "source": [
    "cardata.loc[cardata.duplicated]"
   ]
  },
  {
   "cell_type": "code",
   "execution_count": 5,
   "id": "810f0e78-6ba3-4c50-a61f-b269b5866fc9",
   "metadata": {},
   "outputs": [],
   "source": [
    "cardata.drop_duplicates(keep= \"first\", inplace= True)"
   ]
  },
  {
   "cell_type": "markdown",
   "id": "065ba1c5-4af6-4bfa-9718-9afaaa932a75",
   "metadata": {},
   "source": [
    "All the duplicates has been removed."
   ]
  },
  {
   "cell_type": "code",
   "execution_count": 6,
   "id": "87165709-e925-4cd6-9f35-1df8ea508dda",
   "metadata": {},
   "outputs": [
    {
     "data": {
      "text/html": [
       "<div>\n",
       "<style scoped>\n",
       "    .dataframe tbody tr th:only-of-type {\n",
       "        vertical-align: middle;\n",
       "    }\n",
       "\n",
       "    .dataframe tbody tr th {\n",
       "        vertical-align: top;\n",
       "    }\n",
       "\n",
       "    .dataframe thead th {\n",
       "        text-align: right;\n",
       "    }\n",
       "</style>\n",
       "<table border=\"1\" class=\"dataframe\">\n",
       "  <thead>\n",
       "    <tr style=\"text-align: right;\">\n",
       "      <th></th>\n",
       "      <th>car</th>\n",
       "      <th>price</th>\n",
       "      <th>body</th>\n",
       "      <th>mileage</th>\n",
       "      <th>engV</th>\n",
       "      <th>engType</th>\n",
       "      <th>registration</th>\n",
       "      <th>year</th>\n",
       "      <th>model</th>\n",
       "      <th>drive</th>\n",
       "    </tr>\n",
       "  </thead>\n",
       "  <tbody>\n",
       "  </tbody>\n",
       "</table>\n",
       "</div>"
      ],
      "text/plain": [
       "Empty DataFrame\n",
       "Columns: [car, price, body, mileage, engV, engType, registration, year, model, drive]\n",
       "Index: []"
      ]
     },
     "execution_count": 6,
     "metadata": {},
     "output_type": "execute_result"
    }
   ],
   "source": [
    "cardata.loc[cardata.duplicated(),:]"
   ]
  },
  {
   "cell_type": "code",
   "execution_count": 6,
   "id": "35e936f1-2801-45f7-aed4-f21d3a0a4166",
   "metadata": {},
   "outputs": [
    {
     "data": {
      "text/plain": [
       "0"
      ]
     },
     "execution_count": 6,
     "metadata": {},
     "output_type": "execute_result"
    }
   ],
   "source": [
    "cardata.duplicated().sum()"
   ]
  },
  {
   "cell_type": "markdown",
   "id": "515c0fe6-0138-4142-961c-efa1ac02ad16",
   "metadata": {},
   "source": [
    "All the duplicated has been removed."
   ]
  },
  {
   "cell_type": "code",
   "execution_count": 7,
   "id": "e0b81bdb-770d-4e0b-ae06-44a63129966f",
   "metadata": {},
   "outputs": [],
   "source": [
    "abc= cardata[\"drive\"].mode()"
   ]
  },
  {
   "cell_type": "code",
   "execution_count": 10,
   "id": "ddf62acb-4643-4ce5-91c9-ad271a0f920c",
   "metadata": {},
   "outputs": [
    {
     "data": {
      "text/plain": [
       "0    front\n",
       "Name: drive, dtype: object"
      ]
     },
     "execution_count": 10,
     "metadata": {},
     "output_type": "execute_result"
    }
   ],
   "source": [
    "abc"
   ]
  },
  {
   "cell_type": "code",
   "execution_count": 8,
   "id": "98d8e593-3b4d-4133-a287-7eda95ac0b00",
   "metadata": {},
   "outputs": [],
   "source": [
    "cardata[\"drive\"]=cardata[\"drive\"].fillna(\"front\")"
   ]
  },
  {
   "cell_type": "code",
   "execution_count": 10,
   "id": "e92f35bc-d861-4fd6-a6b2-dbcdfd496ded",
   "metadata": {},
   "outputs": [
    {
     "data": {
      "text/plain": [
       "car               0\n",
       "price             0\n",
       "body              0\n",
       "mileage           0\n",
       "engV            434\n",
       "engType           0\n",
       "registration      0\n",
       "year              0\n",
       "model             0\n",
       "drive             0\n",
       "dtype: int64"
      ]
     },
     "execution_count": 10,
     "metadata": {},
     "output_type": "execute_result"
    }
   ],
   "source": [
    "cardata.isnull().sum()"
   ]
  },
  {
   "cell_type": "markdown",
   "id": "950aa26a-de0f-4cf7-b9b2-0ba9e3a08c64",
   "metadata": {},
   "source": [
    "It was observed that drive column had 511 null values. It has been replaced with the mode of drive.\n",
    "There are 434 null values in the engV column."
   ]
  },
  {
   "cell_type": "code",
   "execution_count": 9,
   "id": "935bfae7-ccee-4e0f-9b16-e9dd9280cc7d",
   "metadata": {},
   "outputs": [
    {
     "data": {
      "text/plain": [
       "2.0"
      ]
     },
     "execution_count": 9,
     "metadata": {},
     "output_type": "execute_result"
    }
   ],
   "source": [
    "cardata[\"engV\"].median()"
   ]
  },
  {
   "cell_type": "code",
   "execution_count": 10,
   "id": "7bb9bc72-2b13-4b51-ba3c-5264ce9df8da",
   "metadata": {},
   "outputs": [
    {
     "data": {
      "text/plain": [
       "0        2.5\n",
       "1        1.8\n",
       "2        5.5\n",
       "3        1.8\n",
       "4        NaN\n",
       "        ... \n",
       "9499     3.7\n",
       "9501     1.2\n",
       "9508    19.0\n",
       "9539     1.5\n",
       "9566     NaN\n",
       "Name: engV, Length: 1018, dtype: float64"
      ]
     },
     "execution_count": 10,
     "metadata": {},
     "output_type": "execute_result"
    }
   ],
   "source": [
    "cardata.groupby(['car', 'body'])['engV'].head()"
   ]
  },
  {
   "cell_type": "code",
   "execution_count": 11,
   "id": "ee4f777c-aac6-46ea-a294-8d5924319b57",
   "metadata": {},
   "outputs": [],
   "source": [
    "cardata[\"engV\"]= cardata.groupby(['car', 'body'])['engV'].transform(lambda x: x.fillna(x.median()))"
   ]
  },
  {
   "cell_type": "code",
   "execution_count": 12,
   "id": "b2f69d58-efe5-4b3a-a661-70a013e59b1b",
   "metadata": {},
   "outputs": [
    {
     "data": {
      "text/plain": [
       "car              0\n",
       "price            0\n",
       "body             0\n",
       "mileage          0\n",
       "engV            10\n",
       "engType          0\n",
       "registration     0\n",
       "year             0\n",
       "model            0\n",
       "drive            0\n",
       "dtype: int64"
      ]
     },
     "execution_count": 12,
     "metadata": {},
     "output_type": "execute_result"
    }
   ],
   "source": [
    "cardata.isnull().sum()"
   ]
  },
  {
   "cell_type": "markdown",
   "id": "4bea7c3b-e296-4dbe-ab86-5fe360c0b674",
   "metadata": {},
   "source": [
    "The missing values in engV is replaced with median. Still 10 values are missing."
   ]
  },
  {
   "cell_type": "code",
   "execution_count": 13,
   "id": "84260783-9348-41c6-ad5a-b1c609106caa",
   "metadata": {},
   "outputs": [
    {
     "data": {
      "text/html": [
       "<div>\n",
       "<style scoped>\n",
       "    .dataframe tbody tr th:only-of-type {\n",
       "        vertical-align: middle;\n",
       "    }\n",
       "\n",
       "    .dataframe tbody tr th {\n",
       "        vertical-align: top;\n",
       "    }\n",
       "\n",
       "    .dataframe thead th {\n",
       "        text-align: right;\n",
       "    }\n",
       "</style>\n",
       "<table border=\"1\" class=\"dataframe\">\n",
       "  <thead>\n",
       "    <tr style=\"text-align: right;\">\n",
       "      <th></th>\n",
       "      <th>car</th>\n",
       "      <th>price</th>\n",
       "      <th>body</th>\n",
       "      <th>mileage</th>\n",
       "      <th>engV</th>\n",
       "      <th>engType</th>\n",
       "      <th>registration</th>\n",
       "      <th>year</th>\n",
       "      <th>model</th>\n",
       "      <th>drive</th>\n",
       "    </tr>\n",
       "  </thead>\n",
       "  <tbody>\n",
       "    <tr>\n",
       "      <th>319</th>\n",
       "      <td>Tesla</td>\n",
       "      <td>58000.0</td>\n",
       "      <td>hatch</td>\n",
       "      <td>52</td>\n",
       "      <td>NaN</td>\n",
       "      <td>Other</td>\n",
       "      <td>yes</td>\n",
       "      <td>2013</td>\n",
       "      <td>Model S</td>\n",
       "      <td>front</td>\n",
       "    </tr>\n",
       "    <tr>\n",
       "      <th>1437</th>\n",
       "      <td>Tesla</td>\n",
       "      <td>178500.0</td>\n",
       "      <td>crossover</td>\n",
       "      <td>0</td>\n",
       "      <td>NaN</td>\n",
       "      <td>Other</td>\n",
       "      <td>yes</td>\n",
       "      <td>2016</td>\n",
       "      <td>Model X</td>\n",
       "      <td>full</td>\n",
       "    </tr>\n",
       "    <tr>\n",
       "      <th>2486</th>\n",
       "      <td>Tesla</td>\n",
       "      <td>185000.0</td>\n",
       "      <td>crossover</td>\n",
       "      <td>1</td>\n",
       "      <td>NaN</td>\n",
       "      <td>Other</td>\n",
       "      <td>yes</td>\n",
       "      <td>2016</td>\n",
       "      <td>Model X</td>\n",
       "      <td>full</td>\n",
       "    </tr>\n",
       "    <tr>\n",
       "      <th>5084</th>\n",
       "      <td>GAZ</td>\n",
       "      <td>0.0</td>\n",
       "      <td>crossover</td>\n",
       "      <td>1</td>\n",
       "      <td>NaN</td>\n",
       "      <td>Petrol</td>\n",
       "      <td>yes</td>\n",
       "      <td>1963</td>\n",
       "      <td>69</td>\n",
       "      <td>full</td>\n",
       "    </tr>\n",
       "    <tr>\n",
       "      <th>6773</th>\n",
       "      <td>UAZ</td>\n",
       "      <td>3000.0</td>\n",
       "      <td>other</td>\n",
       "      <td>1</td>\n",
       "      <td>NaN</td>\n",
       "      <td>Other</td>\n",
       "      <td>yes</td>\n",
       "      <td>1985</td>\n",
       "      <td>3303</td>\n",
       "      <td>full</td>\n",
       "    </tr>\n",
       "    <tr>\n",
       "      <th>8569</th>\n",
       "      <td>Tesla</td>\n",
       "      <td>176900.0</td>\n",
       "      <td>crossover</td>\n",
       "      <td>0</td>\n",
       "      <td>NaN</td>\n",
       "      <td>Other</td>\n",
       "      <td>yes</td>\n",
       "      <td>2016</td>\n",
       "      <td>Model X</td>\n",
       "      <td>full</td>\n",
       "    </tr>\n",
       "    <tr>\n",
       "      <th>8824</th>\n",
       "      <td>Fisker</td>\n",
       "      <td>0.0</td>\n",
       "      <td>other</td>\n",
       "      <td>100</td>\n",
       "      <td>NaN</td>\n",
       "      <td>Other</td>\n",
       "      <td>yes</td>\n",
       "      <td>2001</td>\n",
       "      <td>Karma</td>\n",
       "      <td>front</td>\n",
       "    </tr>\n",
       "    <tr>\n",
       "      <th>8905</th>\n",
       "      <td>Changan</td>\n",
       "      <td>6028.0</td>\n",
       "      <td>crossover</td>\n",
       "      <td>101</td>\n",
       "      <td>NaN</td>\n",
       "      <td>Other</td>\n",
       "      <td>yes</td>\n",
       "      <td>2005</td>\n",
       "      <td>Ideal</td>\n",
       "      <td>front</td>\n",
       "    </tr>\n",
       "    <tr>\n",
       "      <th>9360</th>\n",
       "      <td>Barkas</td>\n",
       "      <td>5500.0</td>\n",
       "      <td>van</td>\n",
       "      <td>80</td>\n",
       "      <td>NaN</td>\n",
       "      <td>Petrol</td>\n",
       "      <td>yes</td>\n",
       "      <td>2015</td>\n",
       "      <td>B1000</td>\n",
       "      <td>front</td>\n",
       "    </tr>\n",
       "    <tr>\n",
       "      <th>9566</th>\n",
       "      <td>UAZ</td>\n",
       "      <td>850.0</td>\n",
       "      <td>van</td>\n",
       "      <td>255</td>\n",
       "      <td>NaN</td>\n",
       "      <td>Other</td>\n",
       "      <td>yes</td>\n",
       "      <td>1981</td>\n",
       "      <td>3962</td>\n",
       "      <td>front</td>\n",
       "    </tr>\n",
       "  </tbody>\n",
       "</table>\n",
       "</div>"
      ],
      "text/plain": [
       "          car     price       body  mileage  engV engType registration  year  \\\n",
       "319     Tesla   58000.0      hatch       52   NaN   Other          yes  2013   \n",
       "1437    Tesla  178500.0  crossover        0   NaN   Other          yes  2016   \n",
       "2486    Tesla  185000.0  crossover        1   NaN   Other          yes  2016   \n",
       "5084      GAZ       0.0  crossover        1   NaN  Petrol          yes  1963   \n",
       "6773      UAZ    3000.0      other        1   NaN   Other          yes  1985   \n",
       "8569    Tesla  176900.0  crossover        0   NaN   Other          yes  2016   \n",
       "8824   Fisker       0.0      other      100   NaN   Other          yes  2001   \n",
       "8905  Changan    6028.0  crossover      101   NaN   Other          yes  2005   \n",
       "9360   Barkas    5500.0        van       80   NaN  Petrol          yes  2015   \n",
       "9566      UAZ     850.0        van      255   NaN   Other          yes  1981   \n",
       "\n",
       "        model  drive  \n",
       "319   Model S  front  \n",
       "1437  Model X   full  \n",
       "2486  Model X   full  \n",
       "5084       69   full  \n",
       "6773     3303   full  \n",
       "8569  Model X   full  \n",
       "8824    Karma  front  \n",
       "8905    Ideal  front  \n",
       "9360    B1000  front  \n",
       "9566     3962  front  "
      ]
     },
     "execution_count": 13,
     "metadata": {},
     "output_type": "execute_result"
    }
   ],
   "source": [
    "cardata[cardata.engV.isnull()]"
   ]
  },
  {
   "cell_type": "code",
   "execution_count": 14,
   "id": "50597041-aff9-4b68-905e-59d041b61de9",
   "metadata": {},
   "outputs": [],
   "source": [
    "cardata.dropna(subset=\"engV\", inplace= True)"
   ]
  },
  {
   "cell_type": "code",
   "execution_count": 15,
   "id": "17fb970a-cfc1-4b77-9f13-d2795cdc1f9d",
   "metadata": {},
   "outputs": [
    {
     "data": {
      "text/plain": [
       "car             0\n",
       "price           0\n",
       "body            0\n",
       "mileage         0\n",
       "engV            0\n",
       "engType         0\n",
       "registration    0\n",
       "year            0\n",
       "model           0\n",
       "drive           0\n",
       "dtype: int64"
      ]
     },
     "execution_count": 15,
     "metadata": {},
     "output_type": "execute_result"
    }
   ],
   "source": [
    "cardata.isnull().sum()"
   ]
  },
  {
   "cell_type": "code",
   "execution_count": 33,
   "id": "215c4c3f-0631-47a8-9c5a-52f8ae6df00f",
   "metadata": {},
   "outputs": [
    {
     "name": "stdout",
     "output_type": "stream",
     "text": [
      "Collecting pandas_profiling\n",
      "  Downloading pandas_profiling-3.6.3-py2.py3-none-any.whl (328 kB)\n",
      "\u001b[2K     \u001b[90m━━━━━━━━━━━━━━━━━━━━━━━━━━━━━━━━━━━━━━\u001b[0m \u001b[32m328.8/328.8 kB\u001b[0m \u001b[31m19.5 MB/s\u001b[0m eta \u001b[36m0:00:00\u001b[0m\n",
      "\u001b[?25hRequirement already satisfied: scipy<1.10,>=1.4.1 in /opt/conda/lib/python3.10/site-packages (from pandas_profiling) (1.9.3)\n",
      "Collecting htmlmin==0.1.12\n",
      "  Downloading htmlmin-0.1.12.tar.gz (19 kB)\n",
      "  Preparing metadata (setup.py) ... \u001b[?25ldone\n",
      "\u001b[?25hRequirement already satisfied: jinja2<3.2,>=2.11.1 in /opt/conda/lib/python3.10/site-packages (from pandas_profiling) (3.1.2)\n",
      "Requirement already satisfied: seaborn<0.13,>=0.10.1 in /opt/conda/lib/python3.10/site-packages (from pandas_profiling) (0.12.0)\n",
      "Requirement already satisfied: statsmodels<0.14,>=0.13.2 in /opt/conda/lib/python3.10/site-packages (from pandas_profiling) (0.13.2)\n",
      "Requirement already satisfied: PyYAML<6.1,>=5.0.0 in /opt/conda/lib/python3.10/site-packages (from pandas_profiling) (6.0)\n",
      "Requirement already satisfied: numpy<1.24,>=1.16.0 in /opt/conda/lib/python3.10/site-packages (from pandas_profiling) (1.23.4)\n",
      "Requirement already satisfied: requests<2.29,>=2.24.0 in /opt/conda/lib/python3.10/site-packages (from pandas_profiling) (2.28.1)\n",
      "Collecting phik<0.13,>=0.11.1\n",
      "  Downloading phik-0.12.3-cp310-cp310-manylinux_2_17_x86_64.manylinux2014_x86_64.whl (679 kB)\n",
      "\u001b[2K     \u001b[90m━━━━━━━━━━━━━━━━━━━━━━━━━━━━━━━━━━━━━━\u001b[0m \u001b[32m679.5/679.5 kB\u001b[0m \u001b[31m55.6 MB/s\u001b[0m eta \u001b[36m0:00:00\u001b[0m\n",
      "\u001b[?25hRequirement already satisfied: pandas!=1.4.0,<1.6,>1.1 in /opt/conda/lib/python3.10/site-packages (from pandas_profiling) (1.5.1)\n",
      "Collecting pydantic<1.11,>=1.8.1\n",
      "  Downloading pydantic-1.10.4-cp310-cp310-manylinux_2_17_x86_64.manylinux2014_x86_64.whl (3.1 MB)\n",
      "\u001b[2K     \u001b[90m━━━━━━━━━━━━━━━━━━━━━━━━━━━━━━━━━━━━━━━━\u001b[0m \u001b[32m3.1/3.1 MB\u001b[0m \u001b[31m82.7 MB/s\u001b[0m eta \u001b[36m0:00:00\u001b[0m:00:01\u001b[0m\n",
      "\u001b[?25hCollecting typeguard<2.14,>=2.13.2\n",
      "  Downloading typeguard-2.13.3-py3-none-any.whl (17 kB)\n",
      "Requirement already satisfied: tqdm<4.65,>=4.48.2 in /opt/conda/lib/python3.10/site-packages (from pandas_profiling) (4.64.1)\n",
      "Collecting multimethod<1.10,>=1.4\n",
      "  Downloading multimethod-1.9.1-py3-none-any.whl (10 kB)\n",
      "Collecting visions[type_image_path]==0.7.5\n",
      "  Downloading visions-0.7.5-py3-none-any.whl (102 kB)\n",
      "\u001b[2K     \u001b[90m━━━━━━━━━━━━━━━━━━━━━━━━━━━━━━━━━━━━━━\u001b[0m \u001b[32m102.7/102.7 kB\u001b[0m \u001b[31m18.2 MB/s\u001b[0m eta \u001b[36m0:00:00\u001b[0m\n",
      "\u001b[?25hRequirement already satisfied: matplotlib<3.7,>=3.2 in /opt/conda/lib/python3.10/site-packages (from pandas_profiling) (3.6.1)\n",
      "Collecting tangled-up-in-unicode>=0.0.4\n",
      "  Downloading tangled_up_in_unicode-0.2.0-py3-none-any.whl (4.7 MB)\n",
      "\u001b[2K     \u001b[90m━━━━━━━━━━━━━━━━━━━━━━━━━━━━━━━━━━━━━━━━\u001b[0m \u001b[32m4.7/4.7 MB\u001b[0m \u001b[31m81.9 MB/s\u001b[0m eta \u001b[36m0:00:00\u001b[0mta \u001b[36m0:00:01\u001b[0m\n",
      "\u001b[?25hRequirement already satisfied: networkx>=2.4 in /opt/conda/lib/python3.10/site-packages (from visions[type_image_path]==0.7.5->pandas_profiling) (2.8.7)\n",
      "Requirement already satisfied: attrs>=19.3.0 in /opt/conda/lib/python3.10/site-packages (from visions[type_image_path]==0.7.5->pandas_profiling) (22.1.0)\n",
      "Requirement already satisfied: Pillow in /opt/conda/lib/python3.10/site-packages (from visions[type_image_path]==0.7.5->pandas_profiling) (9.2.0)\n",
      "Collecting imagehash\n",
      "  Downloading ImageHash-4.3.1-py2.py3-none-any.whl (296 kB)\n",
      "\u001b[2K     \u001b[90m━━━━━━━━━━━━━━━━━━━━━━━━━━━━━━━━━━━━━━\u001b[0m \u001b[32m296.5/296.5 kB\u001b[0m \u001b[31m41.1 MB/s\u001b[0m eta \u001b[36m0:00:00\u001b[0m\n",
      "\u001b[?25hRequirement already satisfied: MarkupSafe>=2.0 in /opt/conda/lib/python3.10/site-packages (from jinja2<3.2,>=2.11.1->pandas_profiling) (2.1.1)\n",
      "Requirement already satisfied: python-dateutil>=2.7 in /opt/conda/lib/python3.10/site-packages (from matplotlib<3.7,>=3.2->pandas_profiling) (2.8.2)\n",
      "Requirement already satisfied: packaging>=20.0 in /opt/conda/lib/python3.10/site-packages (from matplotlib<3.7,>=3.2->pandas_profiling) (21.3)\n",
      "Requirement already satisfied: pyparsing>=2.2.1 in /opt/conda/lib/python3.10/site-packages (from matplotlib<3.7,>=3.2->pandas_profiling) (3.0.9)\n",
      "Requirement already satisfied: cycler>=0.10 in /opt/conda/lib/python3.10/site-packages (from matplotlib<3.7,>=3.2->pandas_profiling) (0.11.0)\n",
      "Requirement already satisfied: contourpy>=1.0.1 in /opt/conda/lib/python3.10/site-packages (from matplotlib<3.7,>=3.2->pandas_profiling) (1.0.5)\n",
      "Requirement already satisfied: fonttools>=4.22.0 in /opt/conda/lib/python3.10/site-packages (from matplotlib<3.7,>=3.2->pandas_profiling) (4.38.0)\n",
      "Requirement already satisfied: kiwisolver>=1.0.1 in /opt/conda/lib/python3.10/site-packages (from matplotlib<3.7,>=3.2->pandas_profiling) (1.4.4)\n",
      "Requirement already satisfied: pytz>=2020.1 in /opt/conda/lib/python3.10/site-packages (from pandas!=1.4.0,<1.6,>1.1->pandas_profiling) (2022.5)\n",
      "Requirement already satisfied: joblib>=0.14.1 in /opt/conda/lib/python3.10/site-packages (from phik<0.13,>=0.11.1->pandas_profiling) (1.2.0)\n",
      "Requirement already satisfied: typing-extensions>=4.2.0 in /opt/conda/lib/python3.10/site-packages (from pydantic<1.11,>=1.8.1->pandas_profiling) (4.4.0)\n",
      "Requirement already satisfied: idna<4,>=2.5 in /opt/conda/lib/python3.10/site-packages (from requests<2.29,>=2.24.0->pandas_profiling) (3.4)\n",
      "Requirement already satisfied: urllib3<1.27,>=1.21.1 in /opt/conda/lib/python3.10/site-packages (from requests<2.29,>=2.24.0->pandas_profiling) (1.26.11)\n",
      "Requirement already satisfied: charset-normalizer<3,>=2 in /opt/conda/lib/python3.10/site-packages (from requests<2.29,>=2.24.0->pandas_profiling) (2.1.1)\n",
      "Requirement already satisfied: certifi>=2017.4.17 in /opt/conda/lib/python3.10/site-packages (from requests<2.29,>=2.24.0->pandas_profiling) (2022.9.24)\n",
      "Requirement already satisfied: patsy>=0.5.2 in /opt/conda/lib/python3.10/site-packages (from statsmodels<0.14,>=0.13.2->pandas_profiling) (0.5.3)\n",
      "Requirement already satisfied: six in /opt/conda/lib/python3.10/site-packages (from patsy>=0.5.2->statsmodels<0.14,>=0.13.2->pandas_profiling) (1.16.0)\n",
      "Requirement already satisfied: PyWavelets in /opt/conda/lib/python3.10/site-packages (from imagehash->visions[type_image_path]==0.7.5->pandas_profiling) (1.3.0)\n",
      "Building wheels for collected packages: htmlmin\n",
      "  Building wheel for htmlmin (setup.py) ... \u001b[?25ldone\n",
      "\u001b[?25h  Created wheel for htmlmin: filename=htmlmin-0.1.12-py3-none-any.whl size=27082 sha256=87438d728d5933375ffb6bbe2bc7d7d6067f580544918f402deee2214a23dd5e\n",
      "  Stored in directory: /home/jovyan/.cache/pip/wheels/ea/1c/a8/5cec3479cd45136a7111e2d96aac299b219b199c411665250b\n",
      "Successfully built htmlmin\n",
      "Installing collected packages: htmlmin, typeguard, tangled-up-in-unicode, pydantic, multimethod, imagehash, visions, phik, pandas_profiling\n",
      "Successfully installed htmlmin-0.1.12 imagehash-4.3.1 multimethod-1.9.1 pandas_profiling-3.6.3 phik-0.12.3 pydantic-1.10.4 tangled-up-in-unicode-0.2.0 typeguard-2.13.3 visions-0.7.5\n",
      "Note: you may need to restart the kernel to use updated packages.\n"
     ]
    }
   ],
   "source": [
    "pip install pandas_profiling"
   ]
  },
  {
   "cell_type": "code",
   "execution_count": 16,
   "id": "9d10ff0d-13cb-4f05-be6b-c6f41c08d828",
   "metadata": {},
   "outputs": [
    {
     "ename": "ModuleNotFoundError",
     "evalue": "No module named 'pandas_profiling'",
     "output_type": "error",
     "traceback": [
      "\u001b[0;31m---------------------------------------------------------------------------\u001b[0m",
      "\u001b[0;31mModuleNotFoundError\u001b[0m                       Traceback (most recent call last)",
      "Cell \u001b[0;32mIn [16], line 1\u001b[0m\n\u001b[0;32m----> 1\u001b[0m \u001b[38;5;28;01mimport\u001b[39;00m \u001b[38;5;21;01mpandas_profiling\u001b[39;00m\n\u001b[1;32m      2\u001b[0m clean_data_rpofile\u001b[38;5;241m=\u001b[39m pandas_profiling\u001b[38;5;241m.\u001b[39mProfile_Report\n",
      "\u001b[0;31mModuleNotFoundError\u001b[0m: No module named 'pandas_profiling'"
     ]
    }
   ],
   "source": [
    "import pandas_profiling\n",
    "clean_data_rpofile= pandas_profiling.Profile_Report"
   ]
  },
  {
   "cell_type": "markdown",
   "id": "c7fcc86a-fa27-474d-aac4-8d1737210f56",
   "metadata": {},
   "source": [
    "Profile of Clean data has been downloaded"
   ]
  },
  {
   "cell_type": "markdown",
   "id": "739f5584-2c3e-466f-9910-acd2d92248f1",
   "metadata": {},
   "source": [
    "Which type of cars are sold the most?"
   ]
  },
  {
   "cell_type": "code",
   "execution_count": 17,
   "id": "871042d8-f738-4cd8-9761-cf20ca4ef88a",
   "metadata": {},
   "outputs": [
    {
     "data": {
      "text/plain": [
       "Text(0.5, 1.0, 'count plot for car variants')"
      ]
     },
     "execution_count": 17,
     "metadata": {},
     "output_type": "execute_result"
    },
    {
     "data": {
      "image/png": "[encoded data removed]",
      "text/plain": [
       "<Figure size 640x480 with 1 Axes>"
      ]
     },
     "metadata": {},
     "output_type": "display_data"
    }
   ],
   "source": [
    "sea.countplot(x='body', data= cardata).set_title('count plot for car variants')"
   ]
  },
  {
   "cell_type": "markdown",
   "id": "a55fb0f4-3bdc-4d42-a2eb-551963be17a8",
   "metadata": {},
   "source": [
    "It is observed that Sedan cars are sold maximum followed by Crossover, hatch and van."
   ]
  },
  {
   "cell_type": "markdown",
   "id": "ef48d3ed-02d6-45aa-b0d9-1e4a97ee814c",
   "metadata": {},
   "source": [
    "-What is the correlation between price and mileage?"
   ]
  },
  {
   "cell_type": "code",
   "execution_count": 22,
   "id": "4949b055-1fbe-42db-839b-35cebcceaf9a",
   "metadata": {},
   "outputs": [
    {
     "data": {
      "text/plain": [
       "<AxesSubplot: xlabel='mileage', ylabel='price'>"
      ]
     },
     "execution_count": 22,
     "metadata": {},
     "output_type": "execute_result"
    },
    {
     "data": {
      "image/png": "[encoded data removed]",
      "text/plain": [
       "<Figure size 640x480 with 1 Axes>"
      ]
     },
     "metadata": {},
     "output_type": "display_data"
    }
   ],
   "source": [
    "sea.regplot(x=\"mileage\", y=\"price\", data= cardata)"
   ]
  },
  {
   "cell_type": "markdown",
   "id": "c493959b-bc70-4858-a051-b1e51f408eea",
   "metadata": {},
   "source": [
    "It can be seen that maximum cars are below 150000 and gives a mileage between 0 to 400."
   ]
  },
  {
   "cell_type": "markdown",
   "id": "6b3952c2-a823-4fb7-a90b-45d33ed285dc",
   "metadata": {},
   "source": [
    "--How many cars are registered?"
   ]
  },
  {
   "cell_type": "code",
   "execution_count": 23,
   "id": "77f9df51-c293-4c01-b329-bec8f50e1b49",
   "metadata": {},
   "outputs": [
    {
     "data": {
      "text/plain": [
       "yes    8892\n",
       "no      561\n",
       "Name: registration, dtype: int64"
      ]
     },
     "execution_count": 23,
     "metadata": {},
     "output_type": "execute_result"
    }
   ],
   "source": [
    "cardata[\"registration\"].value_counts()"
   ]
  },
  {
   "cell_type": "code",
   "execution_count": 27,
   "id": "afb0cde5-3684-4366-a853-d68328c924bb",
   "metadata": {},
   "outputs": [
    {
     "data": {
      "image/png": "[encoded data removed]",
      "text/plain": [
       "<Figure size 640x480 with 1 Axes>"
      ]
     },
     "metadata": {},
     "output_type": "display_data"
    }
   ],
   "source": [
    "sea.countplot(x=\"registration\", data= cardata).set_title=\"registration status of cars\""
   ]
  },
  {
   "cell_type": "markdown",
   "id": "1b53c2bc-c4e3-493f-8332-451e4fb43a59",
   "metadata": {},
   "source": [
    "It can be seen that 8000+ carsare registered and very few are not registered."
   ]
  },
  {
   "cell_type": "markdown",
   "id": "23265df1-75d9-4774-91eb-e4e88d4d3d37",
   "metadata": {},
   "source": [
    "-- Price distribution between registered and non registered."
   ]
  },
  {
   "cell_type": "code",
   "execution_count": 30,
   "id": "9d9e31ae-cbb6-4da3-a214-aca7d21b1ea3",
   "metadata": {},
   "outputs": [
    {
     "data": {
      "text/plain": [
       "registration  car       \n",
       "no            Alfa Romeo     2325.000000\n",
       "              Audi           3764.750000\n",
       "              BMW            5006.577982\n",
       "              Chevrolet      3900.000000\n",
       "              Chrysler       4325.000000\n",
       "                                ...     \n",
       "yes           Volvo         19082.903226\n",
       "              Wartburg       1000.000000\n",
       "              ZAZ            3153.567833\n",
       "              ZX             7700.000000\n",
       "              �UAZ           2257.791667\n",
       "Name: price, Length: 116, dtype: float64"
      ]
     },
     "execution_count": 30,
     "metadata": {},
     "output_type": "execute_result"
    }
   ],
   "source": [
    "cardata.groupby([\"registration\", \"car\"])[\"price\"].mean()"
   ]
  },
  {
   "cell_type": "code",
   "execution_count": 32,
   "id": "85add552-d667-47d8-8cf5-979eb6f2ae3a",
   "metadata": {},
   "outputs": [
    {
     "data": {
      "text/plain": [
       "<AxesSubplot: xlabel='registration', ylabel='price'>"
      ]
     },
     "execution_count": 32,
     "metadata": {},
     "output_type": "execute_result"
    },
    {
     "data": {
      "image/png": "[encoded data removed]",
      "text/plain": [
       "<Figure size 640x480 with 1 Axes>"
      ]
     },
     "metadata": {},
     "output_type": "display_data"
    }
   ],
   "source": [
    "sea.boxplot(x= \"registration\", y=\"price\", data= cardata)"
   ]
  },
  {
   "cell_type": "markdown",
   "id": "a4045509-34e0-4480-9ee6-9aa7a4042f25",
   "metadata": {},
   "source": [
    "Most of the registered cars are below 300000 and non registered cars are cheaper in cost."
   ]
  },
  {
   "cell_type": "markdown",
   "id": "e976cb7a-8a3d-4698-a356-a9f972666011",
   "metadata": {},
   "source": [
    "What is the car price distribution between the engine value?"
   ]
  },
  {
   "cell_type": "code",
   "execution_count": 33,
   "id": "e826b473-43cb-4fac-aefe-1af217058087",
   "metadata": {},
   "outputs": [
    {
     "data": {
      "text/plain": [
       "array([ 2.5 ,  1.8 ,  5.5 ,  2.3 ,  2.  ,  1.5 ,  2.2 ,  1.2 ,  4.8 ,\n",
       "        5.  ,  3.  ,  4.4 ,  1.6 ,  2.98,  1.4 ,  2.4 ,  2.8 ,  3.5 ,\n",
       "        2.99,  1.9 ,  1.7 ,  4.5 ,  3.6 ,  2.7 ,  4.  ,  3.2 ,  3.8 ,\n",
       "        5.7 , 99.99,  3.7 ,  4.7 ,  1.  ,  0.7 , 19.  ,  4.6 ,  0.11,\n",
       "        4.2 ,  0.8 ,  6.2 ,  1.3 ,  6.  ,  2.6 ,  0.6 ,  1.25,  2.35,\n",
       "        5.46,  6.3 ,  5.6 ,  8.3 ,  3.3 ,  1.1 ,  6.1 ,  0.65,  1.78,\n",
       "        2.1 ,  2.9 ,  3.4 ,  7.  ,  1.46,  2.25,  5.2 , 75.  ,  6.5 ,\n",
       "        1.23, 17.  ,  8.  ,  1.34,  1.39, 90.  ,  5.3 ,  4.67, 20.  ,\n",
       "       14.  , 11.5 ,  1.45,  9.  , 10.  ,  4.66, 15.  ,  0.9 , 12.  ,\n",
       "        2.57,  1.91,  1.33,  2.49,  1.12,  1.36,  2.14, 55.  ,  4.39,\n",
       "        6.75,  1.59, 28.  ,  4.3 ,  8.7 ,  3.1 ,  2.15, 30.  ,  4.25,\n",
       "        7.2 , 85.  ,  5.4 , 66.  ,  2.69,  1.24, 18.  ,  1.45, 22.  ,\n",
       "       70.  ,  2.44,  6.4 ,  1.35,  2.17,  2.46,  2.28,  1.79,  0.14,\n",
       "        1.31,  0.1 , 74.  ])"
      ]
     },
     "execution_count": 33,
     "metadata": {},
     "output_type": "execute_result"
    }
   ],
   "source": [
    "cardata[\"engV\"].unique()"
   ]
  },
  {
   "cell_type": "code",
   "execution_count": 35,
   "id": "f2c7252f-859e-4b2c-bf59-7393bdb74aed",
   "metadata": {},
   "outputs": [
    {
     "data": {
      "image/png": "[encoded data removed]",
      "text/plain": [
       "<Figure size 640x480 with 1 Axes>"
      ]
     },
     "metadata": {},
     "output_type": "display_data"
    }
   ],
   "source": [
    "sea.regplot(x=\"engV\" , y=\"price\", data= cardata).set_title=\"car price distribution between the engine valuES\""
   ]
  },
  {
   "cell_type": "markdown",
   "id": "f9c7050c-e4d4-4851-ade4-d3035495256c",
   "metadata": {},
   "source": [
    "There are few outliers if we ignore them, then most of the car lies between price 0 to 150000 and engV 0 to 6."
   ]
  },
  {
   "cell_type": "code",
   "execution_count": null,
   "id": "a0f9874b-3cd2-46c4-8ec5-4c575c153008",
   "metadata": {},
   "outputs": [],
   "source": [
    "-Which engine type of cars are most preffered?"
   ]
  },
  {
   "cell_type": "code",
   "execution_count": 18,
   "id": "9bb9c4c3-ebe7-4fa0-be06-1bb295c22ccd",
   "metadata": {},
   "outputs": [
    {
     "data": {
      "text/plain": [
       "engType\n",
       "Diesel    2950\n",
       "Gas       1710\n",
       "Other      454\n",
       "Petrol    4339\n",
       "Name: price, dtype: int64"
      ]
     },
     "execution_count": 18,
     "metadata": {},
     "output_type": "execute_result"
    }
   ],
   "source": [
    "cardata.groupby([\"engType\"])[\"price\"].count()"
   ]
  },
  {
   "cell_type": "code",
   "execution_count": 20,
   "id": "aa26e2cb-871b-46da-8fa6-f3e62866fe9b",
   "metadata": {},
   "outputs": [
    {
     "data": {
      "image/png": "[encoded data removed]",
      "text/plain": [
       "<Figure size 640x480 with 1 Axes>"
      ]
     },
     "metadata": {},
     "output_type": "display_data"
    }
   ],
   "source": [
    "sea.countplot(x= \"engType\", data= cardata).set_title=\"Preffered engine\""
   ]
  },
  {
   "cell_type": "markdown",
   "id": "7fabf71b-fee0-4a11-9b1a-f0d8f8a0138e",
   "metadata": {},
   "source": [
    "It is observed that Petrol is being prefered the most followed by Diesel and gas."
   ]
  },
  {
   "cell_type": "markdown",
   "id": "4d653fed-3199-4723-93c6-81a351658784",
   "metadata": {},
   "source": [
    "-- Correlation between all features. "
   ]
  },
  {
   "cell_type": "code",
   "execution_count": 22,
   "id": "711a4863-cc35-4c0c-ad3e-1842fd5af184",
   "metadata": {},
   "outputs": [
    {
     "name": "stderr",
     "output_type": "stream",
     "text": [
      "/tmp/ipykernel_137/4281108917.py:1: FutureWarning: The default value of numeric_only in DataFrame.corr is deprecated. In a future version, it will default to False. Select only valid columns or specify the value of numeric_only to silence this warning.\n",
      "  Corr_cardata= cardata.corr()\n"
     ]
    },
    {
     "data": {
      "image/png": "[encoded data removed]",
      "text/plain": [
       "<Figure size 500x500 with 2 Axes>"
      ]
     },
     "metadata": {},
     "output_type": "display_data"
    }
   ],
   "source": [
    "Corr_cardata= cardata.corr()\n",
    "plt.subplots(figsize=(5,5))\n",
    "sea.heatmap(Corr_cardata, vmax= 0.5, linewidth=0.02, square= True).set_title=\" Correlation between all features \"\n"
   ]
  },
  {
   "cell_type": "markdown",
   "id": "7ccc7c17-273c-4ccf-b0b4-aa1108242584",
   "metadata": {},
   "source": [
    "Price and year are positively correlated.\n",
    "engV and mileage are negatively correlated with year.\n",
    "price and mileage are negatively Correlated.\n",
    "engV and price are positively weak correlated.\n"
   ]
  },
  {
   "cell_type": "markdown",
   "id": "595b4f13-a482-4479-b273-d3ec6ed44f55",
   "metadata": {},
   "source": [
    "--Distribution of Price"
   ]
  },
  {
   "cell_type": "code",
   "execution_count": 19,
   "id": "5006f9ec-5961-4268-80e9-a6c5717e2424",
   "metadata": {},
   "outputs": [
    {
     "name": "stderr",
     "output_type": "stream",
     "text": [
      "/tmp/ipykernel_343/852490184.py:1: UserWarning: \n",
      "\n",
      "`distplot` is a deprecated function and will be removed in seaborn v0.14.0.\n",
      "\n",
      "Please adapt your code to use either `displot` (a figure-level function with\n",
      "similar flexibility) or `histplot` (an axes-level function for histograms).\n",
      "\n",
      "For a guide to updating your code to use the new functions, please see\n",
      "https://gist.github.com/mwaskom/de44147ed2974457ad6372750bbe5751\n",
      "\n",
      "  sea.distplot(cardata[\"price\"] , color= \"g\")\n"
     ]
    },
    {
     "data": {
      "text/plain": [
       "<function matplotlib.pyplot.show(close=None, block=None)>"
      ]
     },
     "execution_count": 19,
     "metadata": {},
     "output_type": "execute_result"
    },
    {
     "data": {
      "image/png": "[encoded data removed]",
      "text/plain": [
       "<Figure size 640x480 with 1 Axes>"
      ]
     },
     "metadata": {},
     "output_type": "display_data"
    }
   ],
   "source": [
    "sea.distplot(cardata[\"price\"] , color= \"g\")\n",
    "plt.title(\"Price Distribution\")\n",
    "plt.show"
   ]
  },
  {
   "cell_type": "markdown",
   "id": "7c566648-0366-411a-9a1a-581ff5d122af",
   "metadata": {},
   "source": [
    "The price varies between 0-80000"
   ]
  }
 ],
 "metadata": {
  "kernelspec": {
   "display_name": "Python 3 (ipykernel)",
   "language": "python",
   "name": "python3"
  },
  "language_info": {
   "codemirror_mode": {
    "name": "ipython",
    "version": 3
   },
   "file_extension": ".py",
   "mimetype": "text/x-python",
   "name": "python",
   "nbconvert_exporter": "python",
   "pygments_lexer": "ipython3",
   "version": "3.10.6"
  }
 },
 "nbformat": 4,
 "nbformat_minor": 5
}
